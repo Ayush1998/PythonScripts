{
  "cells": [
    {
      "metadata": {
        "id": "SrBj_rffoMyV",
        "colab_type": "code",
        "colab": {
          "autoexec": {
            "startup": false,
            "wait_interval": 0
          }
        },
        "trusted": true,
        "collapsed": true,
        "_uuid": "6aeaa12fb2cbe1c3251f5f31de813dd3ba3120a1"
      },
      "cell_type": "code",
      "source": "import pandas as pd\nimport numpy as np",
      "execution_count": 43,
      "outputs": []
    },
    {
      "metadata": {
        "id": "trP-g463ocib",
        "colab_type": "code",
        "colab": {
          "autoexec": {
            "startup": false,
            "wait_interval": 0
          }
        },
        "trusted": true,
        "_uuid": "4d95712c72d390b2c000d4cd1a8260feaa6a165a",
        "collapsed": true
      },
      "cell_type": "code",
      "source": "file = open('../input/Thus Spoke Zarathustra.txt')",
      "execution_count": 44,
      "outputs": []
    },
    {
      "metadata": {
        "trusted": true,
        "collapsed": true,
        "_uuid": "3b565401593f31d5ae580eb8592f769360f467ff"
      },
      "cell_type": "code",
      "source": "text = file.read()",
      "execution_count": 45,
      "outputs": []
    },
    {
      "metadata": {
        "id": "qKbmBG2Voie-",
        "colab_type": "code",
        "colab": {
          "autoexec": {
            "startup": false,
            "wait_interval": 0
          }
        },
        "trusted": true,
        "_uuid": "7c2d4d5a73337ea69ff38d0fc7bd1bd7eeea0f10",
        "collapsed": true
      },
      "cell_type": "code",
      "source": "text = text.replace('\\r\\n\\r\\n', '\\r\\n')",
      "execution_count": 46,
      "outputs": []
    },
    {
      "metadata": {
        "id": "4K6E1qsSorpd",
        "colab_type": "code",
        "colab": {
          "autoexec": {
            "startup": false,
            "wait_interval": 0
          }
        },
        "trusted": true,
        "_uuid": "f5f5b883f9306b4cdf7008f642ef281e14ad9898",
        "collapsed": true
      },
      "cell_type": "code",
      "source": "text = text.replace('\\r\\n', ' ')",
      "execution_count": 47,
      "outputs": []
    },
    {
      "metadata": {
        "id": "wQKWX4mKo3O3",
        "colab_type": "code",
        "colab": {
          "autoexec": {
            "startup": false,
            "wait_interval": 0
          }
        },
        "trusted": true,
        "collapsed": true,
        "_uuid": "b70fc690c2e08a196261eac24a27e2b3732d0cda"
      },
      "cell_type": "code",
      "source": "text = text.replace('\\'', '')",
      "execution_count": 48,
      "outputs": []
    },
    {
      "metadata": {
        "id": "weBF_W_XEnWI",
        "colab_type": "code",
        "colab": {
          "autoexec": {
            "startup": false,
            "wait_interval": 0
          }
        },
        "trusted": true,
        "collapsed": true,
        "_uuid": "ccb100f4ee4a0b757c42963d7e14552d6d46983b"
      },
      "cell_type": "code",
      "source": "import re",
      "execution_count": 49,
      "outputs": []
    },
    {
      "metadata": {
        "id": "bZ1_Zx99EnWi",
        "colab_type": "code",
        "colab": {
          "autoexec": {
            "startup": false,
            "wait_interval": 0
          }
        },
        "trusted": true,
        "collapsed": true,
        "_uuid": "7d3f53b18b0ce73e439cc3ba76f7f57a540ee9ee"
      },
      "cell_type": "code",
      "source": "text = re.sub(' +',' ',text)",
      "execution_count": 50,
      "outputs": []
    },
    {
      "metadata": {
        "id": "7SqYLgMvpng5",
        "colab_type": "code",
        "colab": {
          "autoexec": {
            "startup": false,
            "wait_interval": 0
          }
        },
        "trusted": true,
        "collapsed": true,
        "_uuid": "39cffa983cd70b1aa1d3daeeb952127e66c4d5ff"
      },
      "cell_type": "code",
      "source": "text = text.split()",
      "execution_count": 51,
      "outputs": []
    },
    {
      "metadata": {
        "id": "MCKwmGYppvj1",
        "colab_type": "code",
        "colab": {
          "autoexec": {
            "startup": false,
            "wait_interval": 0
          }
        },
        "trusted": true,
        "collapsed": true,
        "_uuid": "3209122c432515316cdb3563bf555889f837e019"
      },
      "cell_type": "code",
      "source": "words = list(set(text))",
      "execution_count": 52,
      "outputs": []
    },
    {
      "metadata": {
        "id": "BrQoDxwdEnXD",
        "colab_type": "code",
        "colab": {
          "autoexec": {
            "startup": false,
            "wait_interval": 0
          }
        },
        "trusted": true,
        "collapsed": true,
        "_uuid": "ae8ab74180d4d0ffae8247b015c6ec6ac8cc554b"
      },
      "cell_type": "code",
      "source": "vocab_size = len(words)",
      "execution_count": 53,
      "outputs": []
    },
    {
      "metadata": {
        "id": "H2KOrF8xEnXR",
        "colab_type": "code",
        "colab": {
          "autoexec": {
            "startup": false,
            "wait_interval": 0
          }
        },
        "trusted": true,
        "collapsed": true,
        "_uuid": "fdd7b9d6c02821a258759f35f30eb65a58d784ad"
      },
      "cell_type": "code",
      "source": "from scipy.sparse import csr_matrix\nfrom scipy.sparse import vstack",
      "execution_count": 54,
      "outputs": []
    },
    {
      "metadata": {
        "id": "RkyA-h_q5m1K",
        "colab_type": "code",
        "colab": {
          "autoexec": {
            "startup": false,
            "wait_interval": 0
          }
        },
        "cellView": "code",
        "trusted": true,
        "collapsed": true,
        "_uuid": "a447adfe407a1e4a8ead97923fcb44cfa7a3f2c8"
      },
      "cell_type": "code",
      "source": "strdict = {}\nrevdict = {}\ni = 0\nfor word in words:\n    row = [0]\n    col = [i]\n    data = [1]\n    strdict[word] =csr_matrix((data, (row, col)), shape=(1, vocab_size))\n    revdict[i] = word\n    i += 1",
      "execution_count": 55,
      "outputs": []
    },
    {
      "metadata": {
        "id": "ktb11a_j5qne",
        "colab_type": "code",
        "colab": {
          "autoexec": {
            "startup": false,
            "wait_interval": 0
          }
        },
        "trusted": true,
        "collapsed": true,
        "_uuid": "c38b76db95db4780f581cc56b56ced3c6474142e"
      },
      "cell_type": "code",
      "source": "def convert_to_df(start, size, seq, vsize, batch_size):\n    word_count = len(seq)\n    if batch_size == 1:\n        ones = seq[start:start + size]\n        inp_vector = vstack([strdict[x] for x in ones])\n        out_vec = strdict[seq[start + size]]\n        inp = inp_vector.toarray()\n        out = out_vec.toarray()\n    else:\n        inp = np.array([])\n        out = np.array([])\n        for i in range(batch_size):\n            if start >= word_count - size:\n                break\n            ones = seq[start:start + size]\n            inp_vector = vstack([strdict[x] for x in ones])\n            out_vec = strdict[seq[start + size]]\n            if i == 0:\n                inp = inp_vector.toarray()\n                out = out_vec.toarray()\n            else:\n                inp = np.dstack((inp, inp_vector.toarray()))\n                out = np.vstack((out, out_vec.toarray()))\n            start += 1\n        inp = np.swapaxes(inp, 2, 0)\n        inp = np.swapaxes(inp, 1, 2)\n    return inp, out",
      "execution_count": 93,
      "outputs": []
    },
    {
      "metadata": {
        "trusted": true,
        "_uuid": "e19477d50acdf4b3071b9e908f3bf8a02c8a5b89"
      },
      "cell_type": "code",
      "source": "convert_to_df(0, 32, text, vocab_size, 1)[0].shape",
      "execution_count": 94,
      "outputs": [
        {
          "output_type": "execute_result",
          "execution_count": 94,
          "data": {
            "text/plain": "(32, 16665)"
          },
          "metadata": {}
        }
      ]
    },
    {
      "metadata": {
        "id": "I47QFPnyqTtG",
        "colab_type": "code",
        "colab": {
          "autoexec": {
            "startup": false,
            "wait_interval": 0
          }
        },
        "trusted": true,
        "_uuid": "439e7f26eb9f8e3a75aff3ec3090e5bfb67246e8",
        "collapsed": true
      },
      "cell_type": "code",
      "source": "import tensorflow as tf",
      "execution_count": 95,
      "outputs": []
    },
    {
      "metadata": {
        "id": "KcBhjDxhxfy3",
        "colab_type": "code",
        "colab": {
          "autoexec": {
            "startup": false,
            "wait_interval": 0
          }
        },
        "trusted": true,
        "collapsed": true,
        "_uuid": "3817d68404ea842fa73ca0be912a06ec537b947b"
      },
      "cell_type": "code",
      "source": "def rnn_cell(W,Wo, U, b, prev_cell, curr):\n    h = tf.tanh(tf.add(tf.matmul(U, curr), tf.matmul(W, prev_cell)) + b)\n    out = tf.matmul(Wo, h)\n    return h, out",
      "execution_count": 111,
      "outputs": []
    },
    {
      "metadata": {
        "id": "LRkDKYtYrYrT",
        "colab_type": "code",
        "colab": {
          "autoexec": {
            "startup": false,
            "wait_interval": 0
          }
        },
        "trusted": true,
        "collapsed": true,
        "_uuid": "e81e29688d9e24bf82b9f953ca4d222ebf9966b4"
      },
      "cell_type": "code",
      "source": "def rnn_layer(xin, We, Wo, Ue, be, num_inp):\n    layer = tf.zeros((1, vocab_size))\n    next_inp = []\n    for i in range(num_inp):\n        curr = xin[i]\n        curr = tf.cast(curr, tf.float32)\n        curr = tf.reshape(curr, [1, vocab_size])\n        layer = tf.cast(layer, tf.float32)\n        layer, out = rnn_cell(We, Wo, Ue, be, layer, curr)\n        next_inp.append(out)\n    next_inp = tf.stack(next_inp)\n    next_inp = tf.squeeze(next_inp)\n    return next_inp",
      "execution_count": 130,
      "outputs": []
    },
    {
      "metadata": {
        "id": "1NMOgovPqnzr",
        "colab_type": "code",
        "colab": {
          "autoexec": {
            "startup": false,
            "wait_interval": 0
          }
        },
        "trusted": true,
        "_uuid": "c9793404aa89f72a1a1e909a720b1f9684f3ae79",
        "collapsed": true
      },
      "cell_type": "code",
      "source": "learning_rate = 0.0001\ntraining_iters = 10\ndisplay_step = 1\nnum_inp = 64\nn_hidden = 7\nm = len(text)\nbatch_size = 1",
      "execution_count": 125,
      "outputs": []
    },
    {
      "metadata": {
        "id": "0tqele7awk0O",
        "colab_type": "code",
        "colab": {
          "autoexec": {
            "startup": false,
            "wait_interval": 0
          }
        },
        "trusted": true,
        "collapsed": true,
        "_uuid": "d5bcb435e969c2b3bc454ec6c3a60aa5378be16f"
      },
      "cell_type": "code",
      "source": "x = tf.placeholder(tf.float64, [num_inp, vocab_size])\ny = tf.placeholder(tf.float64, [None, vocab_size])",
      "execution_count": 126,
      "outputs": []
    },
    {
      "metadata": {
        "id": "FhqUFQyMw3SG",
        "colab_type": "code",
        "colab": {
          "autoexec": {
            "startup": false,
            "wait_interval": 0
          }
        },
        "trusted": true,
        "collapsed": true,
        "_uuid": "2c85b7303eec9bd76fd775a50c2e45f61e43febe"
      },
      "cell_type": "code",
      "source": "W = {}\nU = {}\nWO = {}\nb = {}\nfor i in range(1, n_hidden + 1):\n    W[i] = tf.Variable(tf.truncated_normal([1, 1], stddev=0.03))\n    WO[i] = tf.Variable(tf.truncated_normal([1, 1],  stddev=0.03))\n    U[i] = tf.Variable(tf.truncated_normal([1, 1],  stddev=0.03))\n    b[i] = tf.Variable(tf.zeros([1, vocab_size]))",
      "execution_count": 127,
      "outputs": []
    },
    {
      "metadata": {
        "id": "BDpm960uxe74",
        "colab_type": "code",
        "colab": {
          "autoexec": {
            "startup": false,
            "wait_interval": 0
          },
          "base_uri": "https://localhost:8080/",
          "height": 35
        },
        "outputId": "4781e593-c48a-4819-ab03-f490086071eb",
        "executionInfo": {
          "status": "ok",
          "timestamp": 1528389829106,
          "user_tz": -330,
          "elapsed": 2171,
          "user": {
            "displayName": "Heet Sankesara",
            "photoUrl": "//lh5.googleusercontent.com/-mO3PS3oBtRQ/AAAAAAAAAAI/AAAAAAAAADs/_ic_rsddWU4/s50-c-k-no/photo.jpg",
            "userId": "112240562069909648160"
          }
        },
        "trusted": true,
        "_uuid": "061290829cffd86100bd2683740555af9bc3d142"
      },
      "cell_type": "code",
      "source": "tf.device(\"/device:GPU:0\")",
      "execution_count": 128,
      "outputs": [
        {
          "output_type": "execute_result",
          "execution_count": 128,
          "data": {
            "text/plain": "<contextlib._GeneratorContextManager at 0x7f8ff4696908>"
          },
          "metadata": {}
        }
      ]
    },
    {
      "metadata": {
        "id": "6xKblWN4yRsq",
        "colab_type": "code",
        "colab": {
          "autoexec": {
            "startup": false,
            "wait_interval": 0
          }
        },
        "trusted": true,
        "_uuid": "97d88b9f90ac67605bdf2c4f53f5043eec3902e6"
      },
      "cell_type": "code",
      "source": "prev_inp = x\nfor i in range(1, n_hidden + 1):\n    prev_inp = rnn_layer(prev_inp, W[i],WO[i], U[i], b[i], num_inp)\ndense_layer1 = prev_inp[-1:]",
      "execution_count": 139,
      "outputs": []
    },
    {
      "metadata": {
        "id": "zeY4biq1I5Vz",
        "colab_type": "code",
        "colab": {
          "autoexec": {
            "startup": false,
            "wait_interval": 0
          }
        },
        "trusted": true,
        "collapsed": true,
        "_uuid": "e1b2968779462c0b1be6485570e91923bf17445f"
      },
      "cell_type": "code",
      "source": "pred = tf.nn.softmax(dense_layer1)",
      "execution_count": 140,
      "outputs": []
    },
    {
      "metadata": {
        "id": "tbSNM77mzCL1",
        "colab_type": "code",
        "colab": {
          "autoexec": {
            "startup": false,
            "wait_interval": 0
          }
        },
        "trusted": true,
        "collapsed": true,
        "_uuid": "604ac21ea2e35855514e1a507355f88390d397dc"
      },
      "cell_type": "code",
      "source": "cost = tf.reduce_mean(tf.nn.softmax_cross_entropy_with_logits_v2(logits=dense_layer1, labels=y))\noptimizer = tf.train.AdamOptimizer(learning_rate).minimize(cost)",
      "execution_count": 141,
      "outputs": []
    },
    {
      "metadata": {
        "id": "K-4QkAIL2RxA",
        "colab_type": "code",
        "colab": {
          "autoexec": {
            "startup": false,
            "wait_interval": 0
          }
        },
        "trusted": true,
        "collapsed": true,
        "_uuid": "79b4b460f30f49cddd61008dba2e7a8cbe9b3c6b"
      },
      "cell_type": "code",
      "source": "# Model evaluation\ncorrect_pred = tf.equal(tf.argmax(pred, 1), tf.argmax(y, 1))\naccuracy = tf.reduce_mean(tf.cast(correct_pred, tf.float32))",
      "execution_count": 142,
      "outputs": []
    },
    {
      "metadata": {
        "id": "Pz0OUV1H4oms",
        "colab_type": "code",
        "colab": {
          "autoexec": {
            "startup": false,
            "wait_interval": 0
          }
        },
        "trusted": true,
        "collapsed": true,
        "_uuid": "06d2a70571db4541cca3f0156d3418b02d1f7e27"
      },
      "cell_type": "code",
      "source": "saver = tf.train.Saver()\ninit = tf.global_variables_initializer()",
      "execution_count": 143,
      "outputs": []
    },
    {
      "metadata": {
        "id": "e3AkyEMS4sha",
        "colab_type": "code",
        "colab": {
          "autoexec": {
            "startup": false,
            "wait_interval": 0
          },
          "base_uri": "https://localhost:8080/",
          "height": 287
        },
        "outputId": "6638ef1d-31fe-4385-e011-85e989467130",
        "executionInfo": {
          "status": "ok",
          "timestamp": 1528389921849,
          "user_tz": -330,
          "elapsed": 78022,
          "user": {
            "displayName": "Heet Sankesara",
            "photoUrl": "//lh5.googleusercontent.com/-mO3PS3oBtRQ/AAAAAAAAAAI/AAAAAAAAADs/_ic_rsddWU4/s50-c-k-no/photo.jpg",
            "userId": "112240562069909648160"
          }
        },
        "trusted": true,
        "_uuid": "c395753c226668742ea21b9022a1e765c895e8a2"
      },
      "cell_type": "code",
      "source": "with tf.Session() as sess:\n    sess.run(init)\n    window_size = m - num_inp\n    for epoch in range(training_iters):\n        cst_total = 0\n        acc_total = 0\n        total_batches = int(np.ceil(window_size / batch_size))\n        for i in range(total_batches):\n            df_x, df_y = convert_to_df(i, num_inp, text, vocab_size, batch_size)\n            _, cst, acc = sess.run([optimizer, cost, accuracy], feed_dict = {x : df_x, y : df_y})\n            cst_total += cst\n            acc_total += acc\n        if (epoch + 1) % display_step == 0:\n            print('After ', (epoch + 1), 'iterations: Cost = ', cst_total / total_batches, 'and Accuracy: ', acc_total * 100 / total_batches, '%' )\n    print('Optimiation finished!!!')\n    save_path = saver.save(sess, \"../working/model.ckpt\")\n    print(\"Model saved in path: %s\" % save_path)\n    print(\"Lets test\")\n    sentence = '''And many a one who cannot see men s loftiness, calleth it \nvirtue to see their baseness far too well: thus calleth he his \nevil eye virtue. And some want to be edified and raised up, and call it \nvirtue: and others want to be cast down, and likewise call \nit virtue. And thus do almost all think that they participate in virtue; \nand'''\n    sent = sentence.split()\n    sent = vstack([strdict[s] for s in sent])\n    sent  = sent.toarray()\n    for q in range(64):\n        one_hot = sess.run(pred, feed_dict={x : sent.reshape((1, num_inp, vocab_size))})\n        index = int(tf.argmax(one_hot, 1).eval())\n        sentence = \"%s %s\" % (sentence,revdict[index])\n        sent = sent[1:]\n        sent = np.vstack((sent, one_hot))\n    print(sentence)\n    ",
      "execution_count": null,
      "outputs": []
    },
    {
      "metadata": {
        "trusted": true,
        "_uuid": "626096b1ba7ecd0e37dc5e4c87341c5a874f4171",
        "collapsed": true
      },
      "cell_type": "code",
      "source": "",
      "execution_count": null,
      "outputs": []
    },
    {
      "metadata": {
        "trusted": true,
        "_uuid": "d859e28f78967b24ed406751c479b1330d7d5383",
        "collapsed": true
      },
      "cell_type": "code",
      "source": "",
      "execution_count": null,
      "outputs": []
    },
    {
      "metadata": {
        "trusted": true,
        "collapsed": true,
        "_uuid": "4c301f4e837c6ffc4585a0ff5f66945ad7a358b2"
      },
      "cell_type": "code",
      "source": "",
      "execution_count": null,
      "outputs": []
    }
  ],
  "metadata": {
    "colab": {
      "name": "RNN_Stacked_v2.ipynb",
      "version": "0.3.2",
      "views": {},
      "default_view": {},
      "provenance": [],
      "collapsed_sections": []
    },
    "kernelspec": {
      "display_name": "Python 3",
      "language": "python",
      "name": "python3"
    },
    "accelerator": "GPU",
    "language_info": {
      "name": "python",
      "version": "3.6.4",
      "mimetype": "text/x-python",
      "codemirror_mode": {
        "name": "ipython",
        "version": 3
      },
      "pygments_lexer": "ipython3",
      "nbconvert_exporter": "python",
      "file_extension": ".py"
    }
  },
  "nbformat": 4,
  "nbformat_minor": 1
}