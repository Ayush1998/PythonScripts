{
  "cells": [
    {
      "metadata": {
        "_uuid": "8f2839f25d086af736a60e9eeb907d3b93b6e0e5",
        "_cell_guid": "b1076dfc-b9ad-4769-8c92-a6c4dae69d19",
        "trusted": true
      },
      "cell_type": "code",
      "source": "import pandas as pd\nimport numpy as np\nimport tensorflow as tf\nfrom keras.preprocessing.text import Tokenizer\nfrom keras.engine.topology import Layer\nfrom keras.optimizers import Adam, Nadam\nfrom keras import initializers as initializers, regularizers, constraints\nfrom keras.callbacks import Callback\nfrom keras.layers import Embedding, Input, Dense, LSTM, GRU, Bidirectional, TimeDistributed\nfrom keras import backend as K\nfrom keras.models import Model\nfrom sklearn.metrics import roc_auc_score",
      "execution_count": 1,
      "outputs": [
        {
          "output_type": "stream",
          "text": "/opt/conda/lib/python3.6/site-packages/h5py/__init__.py:36: FutureWarning: Conversion of the second argument of issubdtype from `float` to `np.floating` is deprecated. In future, it will be treated as `np.float64 == np.dtype(float).type`.\n  from ._conv import register_converters as _register_converters\nUsing TensorFlow backend.\n",
          "name": "stderr"
        }
      ]
    },
    {
      "metadata": {
        "trusted": true,
        "_uuid": "73f1238832e3b548499490026da3258f3410f6b3",
        "collapsed": true
      },
      "cell_type": "code",
      "source": "sess = tf.Session(config=tf.ConfigProto(log_device_placement=True))",
      "execution_count": 2,
      "outputs": []
    },
    {
      "metadata": {
        "trusted": true,
        "collapsed": true,
        "_uuid": "92dc1c79ac447150436665b44cc691809853e43b"
      },
      "cell_type": "code",
      "source": "MAX_WORDS = 20000\nMAX_NB_CHARS = 1000\nEMBEDDING_DIM = 300\nVALIDATION_SPLIT = 0.2",
      "execution_count": 3,
      "outputs": []
    },
    {
      "metadata": {
        "_cell_guid": "79c7e3d0-c299-4dcb-8224-4455121ee9b0",
        "collapsed": true,
        "_uuid": "d629ff2d2480ee46fbb7e2d37f6b5fab8052498a",
        "trusted": false
      },
      "cell_type": "markdown",
      "source": "## Data"
    },
    {
      "metadata": {
        "trusted": true,
        "collapsed": true,
        "_uuid": "1a6cbfb1e90fbbb1dcf09bbe30c9737558209ee7"
      },
      "cell_type": "code",
      "source": "data = pd.read_csv('../input/articles.csv')",
      "execution_count": 4,
      "outputs": []
    },
    {
      "metadata": {
        "trusted": true,
        "_uuid": "a2f087b90d820345092411b63a5dfe4a76f0f7ee",
        "collapsed": true
      },
      "cell_type": "code",
      "source": "data = data[['text', 'claps']]",
      "execution_count": 5,
      "outputs": []
    },
    {
      "metadata": {
        "trusted": true,
        "collapsed": true,
        "_uuid": "b519d6be163d6852daadbd8c63c6735b6c401a61"
      },
      "cell_type": "code",
      "source": "data['claps'] = data['claps'].apply(lambda s: int(float(s[:-1]) * 1000) if s[-1] == 'K' else int(s))",
      "execution_count": 6,
      "outputs": []
    },
    {
      "metadata": {
        "trusted": true,
        "collapsed": true,
        "_uuid": "ce0e199f05ee5f03b3be01e5ad0bfa6cceb901a8"
      },
      "cell_type": "code",
      "source": "text = data['text']",
      "execution_count": 7,
      "outputs": []
    },
    {
      "metadata": {
        "trusted": true,
        "collapsed": true,
        "_uuid": "bc8220d6059363bb36591df988db9e3424d045aa"
      },
      "cell_type": "code",
      "source": "sentences = text.apply(lambda x: x.split())",
      "execution_count": 8,
      "outputs": []
    },
    {
      "metadata": {
        "trusted": true,
        "_uuid": "81a3a8a3048a9804d1f1624343f9070db87a2871",
        "collapsed": true
      },
      "cell_type": "code",
      "source": "tokenizer = Tokenizer(num_words=MAX_NB_CHARS, char_level=True)\ntokenizer.fit_on_texts(sentences.values)",
      "execution_count": 9,
      "outputs": []
    },
    {
      "metadata": {
        "trusted": true,
        "_uuid": "ce61142976b83a7cd4d5f0f08cc70ec924a7a0b2",
        "collapsed": true
      },
      "cell_type": "code",
      "source": "data_text = np.zeros((len(sentences), MAX_WORDS), dtype='int32')\nfor i, words in enumerate(sentences):\n    k = 0\n    for j, word in enumerate(words):\n        if j < MAX_WORDS:\n            if tokenizer.word_index[word] < MAX_NB_CHARS:\n                data_text[i, k] = tokenizer.word_index[word]\n                k=k+1",
      "execution_count": 10,
      "outputs": []
    },
    {
      "metadata": {
        "trusted": true,
        "_uuid": "3ac6460b5a1042370649afc0c34fa737ff6ea179"
      },
      "cell_type": "code",
      "source": "char_index = tokenizer.word_index\nprint('Total %s unique tokens.' % len(char_index))",
      "execution_count": 11,
      "outputs": [
        {
          "output_type": "stream",
          "text": "Total 41227 unique tokens.\n",
          "name": "stdout"
        }
      ]
    },
    {
      "metadata": {
        "trusted": true,
        "_uuid": "beb8b90bf8c98dd874d4c41b1053a5af7a076f34"
      },
      "cell_type": "code",
      "source": "claps = data['claps'].values\nclaps = claps.reshape(claps.shape[0], 1)\nprint('Shape of data tensor:', data_text.shape)\nprint('Shape of clap tensor:', claps.shape)",
      "execution_count": 12,
      "outputs": [
        {
          "output_type": "stream",
          "text": "Shape of data tensor: (337, 20000)\nShape of clap tensor: (337, 1)\n",
          "name": "stdout"
        }
      ]
    },
    {
      "metadata": {
        "trusted": true,
        "_uuid": "f82d314b3ae6ca79e28f04627962382cb11a8715",
        "collapsed": true
      },
      "cell_type": "code",
      "source": "indices = np.arange(data_text.shape[0])\nnp.random.shuffle(indices)\ndata_text = data_text[indices]\nclaps = claps[indices]\nnb_validation_samples = int(VALIDATION_SPLIT * data_text.shape[0])\n\nx_train = data_text[:-nb_validation_samples]\ny_train = claps[:-nb_validation_samples]\nx_val = data_text[-nb_validation_samples:]\ny_val = claps[-nb_validation_samples:]",
      "execution_count": 13,
      "outputs": []
    },
    {
      "metadata": {
        "_uuid": "02a95676281b4d1c34b77b5d668fcaf61bef2d97"
      },
      "cell_type": "markdown",
      "source": "## Model design"
    },
    {
      "metadata": {
        "_uuid": "0f810af5f92fe10307b8da4bed3b59e07468866e"
      },
      "cell_type": "markdown",
      "source": "### Attention Layer"
    },
    {
      "metadata": {
        "trusted": true,
        "_uuid": "7521ee34a495db6f7fb02baf373730a1b81e2b56",
        "collapsed": true
      },
      "cell_type": "code",
      "source": "def dot_product(x, kernel):\n    \"\"\"\n    Wrapper for dot product operation, in order to be compatible with both\n    Theano and Tensorflow\n    Args:\n        x (): input\n        kernel (): weights\n    Returns:\n    \"\"\"\n    if K.backend() == 'tensorflow':\n        return K.squeeze(K.dot(x, K.expand_dims(kernel)), axis=-1)\n    else:\n        return K.dot(x, kernel)\n\nclass AttentionWithContext(Layer):\n    \"\"\"\n    Attention operation, with a context/query vector, for temporal data.\n    Supports Masking.\n    Follows the work of Yang et al. [https://www.cs.cmu.edu/~diyiy/docs/naacl16.pdf]\n    \"Hierarchical Attention Networks for Document Classification\"\n    by using a context vector to assist the attention\n    # Input shape\n        3D tensor with shape: `(samples, steps, features)`.\n    # Output shape\n        2D tensor with shape: `(samples, features)`.\n    How to use:\n    Just put it on top of an RNN Layer (GRU/LSTM/SimpleRNN) with return_sequences=True.\n    The dimensions are inferred based on the output shape of the RNN.\n    Note: The layer has been tested with Keras 2.0.6\n    Example:\n        model.add(LSTM(64, return_sequences=True))\n        model.add(AttentionWithContext())\n        # next add a Dense layer (for classification/regression) or whatever...\n    \"\"\"\n\n    def __init__(self,\n                 W_regularizer=None, u_regularizer=None, b_regularizer=None,\n                 W_constraint=None, u_constraint=None, b_constraint=None,\n                 bias=True, **kwargs):\n\n        self.supports_masking = True\n        self.init = initializers.get('glorot_uniform')\n\n        self.W_regularizer = regularizers.get(W_regularizer)\n        self.u_regularizer = regularizers.get(u_regularizer)\n        self.b_regularizer = regularizers.get(b_regularizer)\n\n        self.W_constraint = constraints.get(W_constraint)\n        self.u_constraint = constraints.get(u_constraint)\n        self.b_constraint = constraints.get(b_constraint)\n\n        self.bias = bias\n        super(AttentionWithContext, self).__init__(**kwargs)\n\n    def build(self, input_shape):\n        assert len(input_shape) == 3\n\n        self.W = self.add_weight((input_shape[-1], input_shape[-1],),\n                                 initializer=self.init,\n                                 name='{}_W'.format(self.name),\n                                 regularizer=self.W_regularizer,\n                                 constraint=self.W_constraint)\n        if self.bias:\n            self.b = self.add_weight((input_shape[-1],),\n                                     initializer='zero',\n                                     name='{}_b'.format(self.name),\n                                     regularizer=self.b_regularizer,\n                                     constraint=self.b_constraint)\n\n        self.u = self.add_weight((input_shape[-1],),\n                                 initializer=self.init,\n                                 name='{}_u'.format(self.name),\n                                 regularizer=self.u_regularizer,\n                                 constraint=self.u_constraint)\n\n        super(AttentionWithContext, self).build(input_shape)\n\n    def compute_mask(self, input, input_mask=None):\n        # do not pass the mask to the next layers\n        return None\n\n    def call(self, x, mask=None):\n        uit = dot_product(x, self.W)\n\n        if self.bias:\n            uit += self.b\n\n        uit = K.tanh(uit)\n        ait = dot_product(uit, self.u)\n\n        a = K.exp(ait)\n\n        # apply mask after the exp. will be re-normalized next\n        if mask is not None:\n            # Cast the mask to floatX to avoid float64 upcasting in theano\n            a *= K.cast(mask, K.floatx())\n\n        # in some cases especially in the early stages of training the sum may be almost zero\n        # and this results in NaN's. A workaround is to add a very small positive number ε to the sum.\n        # a /= K.cast(K.sum(a, axis=1, keepdims=True), K.floatx())\n        a /= K.cast(K.sum(a, axis=1, keepdims=True) + K.epsilon(), K.floatx())\n\n        a = K.expand_dims(a)\n        weighted_input = x * a\n        return K.sum(weighted_input, axis=1)\n\n    def compute_output_shape(self, input_shape):\n        return input_shape[0], input_shape[-1]",
      "execution_count": 14,
      "outputs": []
    },
    {
      "metadata": {
        "trusted": true,
        "_uuid": "fc0991da19f0ea73bd97d07ce11fe01b9d23f831",
        "collapsed": true
      },
      "cell_type": "code",
      "source": "def get_embedding(char_index):\n    return Embedding(len(char_index) + 1,\n                            EMBEDDING_DIM,\n                            input_length=MAX_WORDS,\n                            trainable=True)\n\ndef create_model(embedding=None):\n    inp = Input(shape=(MAX_WORDS,))\n    x = embedding(inp)\n    x = Bidirectional(LSTM(64, return_sequences=True))(x)\n    x = AttentionWithContext()(x)\n    x = Dense(1, activation=\"relu\")(x)\n\n    model = Model(inputs=inp, outputs=x)\n\n    model.compile(loss='mse', optimizer=Adam(lr=1e-3, clipnorm=4), metrics=['accuracy'])\n\n    return model",
      "execution_count": 15,
      "outputs": []
    },
    {
      "metadata": {
        "trusted": true,
        "_uuid": "af90f7a27fe11b5f3b5cdcef921b65484d647585",
        "collapsed": true
      },
      "cell_type": "code",
      "source": "embedding = get_embedding(char_index)",
      "execution_count": 16,
      "outputs": []
    },
    {
      "metadata": {
        "trusted": true,
        "_uuid": "e4cce1bd43238c61f273bc7a246ae2851f6601ec",
        "collapsed": true
      },
      "cell_type": "code",
      "source": "model = create_model(embedding)",
      "execution_count": 17,
      "outputs": []
    },
    {
      "metadata": {
        "trusted": true,
        "_uuid": "8ffc556635a9b291e3470ba0b7cda1fef31fe599"
      },
      "cell_type": "code",
      "source": "model.summary()",
      "execution_count": null,
      "outputs": [
        {
          "output_type": "stream",
          "text": "_________________________________________________________________\nLayer (type)                 Output Shape              Param #   \n=================================================================\ninput_1 (InputLayer)         (None, 20000)             0         \n_________________________________________________________________\nembedding_1 (Embedding)      (None, 20000, 300)        12368400  \n_________________________________________________________________\nbidirectional_1 (Bidirection (None, 20000, 128)        186880    \n_________________________________________________________________\nattention_with_context_1 (At (None, 128)               16640     \n_________________________________________________________________\ndense_1 (Dense)              (None, 1)                 129       \n=================================================================\nTotal params: 12,572,049\nTrainable params: 12,572,049\nNon-trainable params: 0\n_________________________________________________________________\n",
          "name": "stdout"
        }
      ]
    },
    {
      "metadata": {
        "trusted": true,
        "_uuid": "a64fc23083328526c5b887e087deb3629237a884",
        "collapsed": true
      },
      "cell_type": "code",
      "source": "batch_size = 32\nepochs = 10\nmodel.fit(x_train, y_train,batch_size=batch_size,epochs=epochs,validation_data=(x_val, y_val))",
      "execution_count": null,
      "outputs": []
    },
    {
      "metadata": {
        "trusted": true,
        "collapsed": true,
        "_uuid": "e93f5ac1ab6e54224c04a7526bb5479f6c3718b2"
      },
      "cell_type": "code",
      "source": "",
      "execution_count": null,
      "outputs": []
    }
  ],
  "metadata": {
    "kernelspec": {
      "display_name": "Python 3",
      "language": "python",
      "name": "python3"
    },
    "language_info": {
      "name": "python",
      "version": "3.6.4",
      "mimetype": "text/x-python",
      "codemirror_mode": {
        "name": "ipython",
        "version": 3
      },
      "pygments_lexer": "ipython3",
      "nbconvert_exporter": "python",
      "file_extension": ".py"
    }
  },
  "nbformat": 4,
  "nbformat_minor": 1
}