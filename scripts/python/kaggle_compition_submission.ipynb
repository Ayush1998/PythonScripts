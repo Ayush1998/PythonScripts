{
  "nbformat": 4,
  "nbformat_minor": 0,
  "metadata": {
    "colab": {
      "name": "Analysis.ipynb",
      "version": "0.3.2",
      "views": {},
      "default_view": {},
      "provenance": [],
      "collapsed_sections": [],
      "toc_visible": true
    },
    "kernelspec": {
      "display_name": "Python 3",
      "language": "python",
      "name": "python3"
    }
  },
  "cells": [
    {
      "metadata": {
        "id": "Z1uCnRn18qod",
        "colab_type": "code",
        "colab": {
          "autoexec": {
            "startup": false,
            "wait_interval": 0
          }
        }
      },
      "cell_type": "code",
      "source": [
        "import numpy as np\n",
        "import pandas as pd\n",
        "import os"
      ],
      "execution_count": 0,
      "outputs": []
    },
    {
      "metadata": {
        "id": "E2DE7f0P84Ie",
        "colab_type": "code",
        "colab": {
          "autoexec": {
            "startup": false,
            "wait_interval": 0
          },
          "resources": {
            "http://localhost:8080/nbextensions/google.colab/files.js": {
              "data": "Ly8gQ29weXJpZ2h0IDIwMTcgR29vZ2xlIExMQwovLwovLyBMaWNlbnNlZCB1bmRlciB0aGUgQXBhY2hlIExpY2Vuc2UsIFZlcnNpb24gMi4wICh0aGUgIkxpY2Vuc2UiKTsKLy8geW91IG1heSBub3QgdXNlIHRoaXMgZmlsZSBleGNlcHQgaW4gY29tcGxpYW5jZSB3aXRoIHRoZSBMaWNlbnNlLgovLyBZb3UgbWF5IG9idGFpbiBhIGNvcHkgb2YgdGhlIExpY2Vuc2UgYXQKLy8KLy8gICAgICBodHRwOi8vd3d3LmFwYWNoZS5vcmcvbGljZW5zZXMvTElDRU5TRS0yLjAKLy8KLy8gVW5sZXNzIHJlcXVpcmVkIGJ5IGFwcGxpY2FibGUgbGF3IG9yIGFncmVlZCB0byBpbiB3cml0aW5nLCBzb2Z0d2FyZQovLyBkaXN0cmlidXRlZCB1bmRlciB0aGUgTGljZW5zZSBpcyBkaXN0cmlidXRlZCBvbiBhbiAiQVMgSVMiIEJBU0lTLAovLyBXSVRIT1VUIFdBUlJBTlRJRVMgT1IgQ09ORElUSU9OUyBPRiBBTlkgS0lORCwgZWl0aGVyIGV4cHJlc3Mgb3IgaW1wbGllZC4KLy8gU2VlIHRoZSBMaWNlbnNlIGZvciB0aGUgc3BlY2lmaWMgbGFuZ3VhZ2UgZ292ZXJuaW5nIHBlcm1pc3Npb25zIGFuZAovLyBsaW1pdGF0aW9ucyB1bmRlciB0aGUgTGljZW5zZS4KCi8qKgogKiBAZmlsZW92ZXJ2aWV3IEhlbHBlcnMgZm9yIGdvb2dsZS5jb2xhYiBQeXRob24gbW9kdWxlLgogKi8KKGZ1bmN0aW9uKHNjb3BlKSB7CmZ1bmN0aW9uIHNwYW4odGV4dCwgc3R5bGVBdHRyaWJ1dGVzID0ge30pIHsKICBjb25zdCBlbGVtZW50ID0gZG9jdW1lbnQuY3JlYXRlRWxlbWVudCgnc3BhbicpOwogIGVsZW1lbnQudGV4dENvbnRlbnQgPSB0ZXh0OwogIGZvciAoY29uc3Qga2V5IG9mIE9iamVjdC5rZXlzKHN0eWxlQXR0cmlidXRlcykpIHsKICAgIGVsZW1lbnQuc3R5bGVba2V5XSA9IHN0eWxlQXR0cmlidXRlc1trZXldOwogIH0KICByZXR1cm4gZWxlbWVudDsKfQoKLy8gTWF4IG51bWJlciBvZiBieXRlcyB3aGljaCB3aWxsIGJlIHVwbG9hZGVkIGF0IGEgdGltZS4KY29uc3QgTUFYX1BBWUxPQURfU0laRSA9IDEwMCAqIDEwMjQ7Ci8vIE1heCBhbW91bnQgb2YgdGltZSB0byBibG9jayB3YWl0aW5nIGZvciB0aGUgdXNlci4KY29uc3QgRklMRV9DSEFOR0VfVElNRU9VVF9NUyA9IDMwICogMTAwMDsKCmZ1bmN0aW9uIF91cGxvYWRGaWxlcyhpbnB1dElkLCBvdXRwdXRJZCkgewogIGNvbnN0IHN0ZXBzID0gdXBsb2FkRmlsZXNTdGVwKGlucHV0SWQsIG91dHB1dElkKTsKICBjb25zdCBvdXRwdXRFbGVtZW50ID0gZG9jdW1lbnQuZ2V0RWxlbWVudEJ5SWQob3V0cHV0SWQpOwogIC8vIENhY2hlIHN0ZXBzIG9uIHRoZSBvdXRwdXRFbGVtZW50IHRvIG1ha2UgaXQgYXZhaWxhYmxlIGZvciB0aGUgbmV4dCBjYWxsCiAgLy8gdG8gdXBsb2FkRmlsZXNDb250aW51ZSBmcm9tIFB5dGhvbi4KICBvdXRwdXRFbGVtZW50LnN0ZXBzID0gc3RlcHM7CgogIHJldHVybiBfdXBsb2FkRmlsZXNDb250aW51ZShvdXRwdXRJZCk7Cn0KCi8vIFRoaXMgaXMgcm91Z2hseSBhbiBhc3luYyBnZW5lcmF0b3IgKG5vdCBzdXBwb3J0ZWQgaW4gdGhlIGJyb3dzZXIgeWV0KSwKLy8gd2hlcmUgdGhlcmUgYXJlIG11bHRpcGxlIGFzeW5jaHJvbm91cyBzdGVwcyBhbmQgdGhlIFB5dGhvbiBzaWRlIGlzIGdvaW5nCi8vIHRvIHBvbGwgZm9yIGNvbXBsZXRpb24gb2YgZWFjaCBzdGVwLgovLyBUaGlzIHVzZXMgYSBQcm9taXNlIHRvIGJsb2NrIHRoZSBweXRob24gc2lkZSBvbiBjb21wbGV0aW9uIG9mIGVhY2ggc3RlcCwKLy8gdGhlbiBwYXNzZXMgdGhlIHJlc3VsdCBvZiB0aGUgcHJldmlvdXMgc3RlcCBhcyB0aGUgaW5wdXQgdG8gdGhlIG5leHQgc3RlcC4KZnVuY3Rpb24gX3VwbG9hZEZpbGVzQ29udGludWUob3V0cHV0SWQpIHsKICBjb25zdCBvdXRwdXRFbGVtZW50ID0gZG9jdW1lbnQuZ2V0RWxlbWVudEJ5SWQob3V0cHV0SWQpOwogIGNvbnN0IHN0ZXBzID0gb3V0cHV0RWxlbWVudC5zdGVwczsKCiAgY29uc3QgbmV4dCA9IHN0ZXBzLm5leHQob3V0cHV0RWxlbWVudC5sYXN0UHJvbWlzZVZhbHVlKTsKICByZXR1cm4gUHJvbWlzZS5yZXNvbHZlKG5leHQudmFsdWUucHJvbWlzZSkudGhlbigodmFsdWUpID0+IHsKICAgIC8vIENhY2hlIHRoZSBsYXN0IHByb21pc2UgdmFsdWUgdG8gbWFrZSBpdCBhdmFpbGFibGUgdG8gdGhlIG5leHQKICAgIC8vIHN0ZXAgb2YgdGhlIGdlbmVyYXRvci4KICAgIG91dHB1dEVsZW1lbnQubGFzdFByb21pc2VWYWx1ZSA9IHZhbHVlOwogICAgcmV0dXJuIG5leHQudmFsdWUucmVzcG9uc2U7CiAgfSk7Cn0KCi8qKgogKiBHZW5lcmF0b3IgZnVuY3Rpb24gd2hpY2ggaXMgY2FsbGVkIGJldHdlZW4gZWFjaCBhc3luYyBzdGVwIG9mIHRoZSB1cGxvYWQKICogcHJvY2Vzcy4KICogQHBhcmFtIHtzdHJpbmd9IGlucHV0SWQgRWxlbWVudCBJRCBvZiB0aGUgaW5wdXQgZmlsZSBwaWNrZXIgZWxlbWVudC4KICogQHBhcmFtIHtzdHJpbmd9IG91dHB1dElkIEVsZW1lbnQgSUQgb2YgdGhlIG91dHB1dCBkaXNwbGF5LgogKiBAcmV0dXJuIHshSXRlcmFibGU8IU9iamVjdD59IEl0ZXJhYmxlIG9mIG5leHQgc3RlcHMuCiAqLwpmdW5jdGlvbiogdXBsb2FkRmlsZXNTdGVwKGlucHV0SWQsIG91dHB1dElkKSB7CiAgY29uc3QgaW5wdXRFbGVtZW50ID0gZG9jdW1lbnQuZ2V0RWxlbWVudEJ5SWQoaW5wdXRJZCk7CiAgaW5wdXRFbGVtZW50LmRpc2FibGVkID0gZmFsc2U7CgogIGNvbnN0IG91dHB1dEVsZW1lbnQgPSBkb2N1bWVudC5nZXRFbGVtZW50QnlJZChvdXRwdXRJZCk7CiAgb3V0cHV0RWxlbWVudC5pbm5lckhUTUwgPSAnJzsKCiAgY29uc3QgcGlja2VkUHJvbWlzZSA9IG5ldyBQcm9taXNlKChyZXNvbHZlKSA9PiB7CiAgICBpbnB1dEVsZW1lbnQuYWRkRXZlbnRMaXN0ZW5lcignY2hhbmdlJywgKGUpID0+IHsKICAgICAgcmVzb2x2ZShlLnRhcmdldC5maWxlcyk7CiAgICB9KTsKICB9KTsKCiAgY29uc3QgY2FuY2VsID0gZG9jdW1lbnQuY3JlYXRlRWxlbWVudCgnYnV0dG9uJyk7CiAgaW5wdXRFbGVtZW50LnBhcmVudEVsZW1lbnQuYXBwZW5kQ2hpbGQoY2FuY2VsKTsKICBjYW5jZWwudGV4dENvbnRlbnQgPSAnQ2FuY2VsIHVwbG9hZCc7CiAgY29uc3QgY2FuY2VsUHJvbWlzZSA9IG5ldyBQcm9taXNlKChyZXNvbHZlKSA9PiB7CiAgICBjYW5jZWwub25jbGljayA9ICgpID0+IHsKICAgICAgcmVzb2x2ZShudWxsKTsKICAgIH07CiAgfSk7CgogIC8vIENhbmNlbCB1cGxvYWQgaWYgdXNlciBoYXNuJ3QgcGlja2VkIGFueXRoaW5nIGluIHRpbWVvdXQuCiAgY29uc3QgdGltZW91dFByb21pc2UgPSBuZXcgUHJvbWlzZSgocmVzb2x2ZSkgPT4gewogICAgc2V0VGltZW91dCgoKSA9PiB7CiAgICAgIHJlc29sdmUobnVsbCk7CiAgICB9LCBGSUxFX0NIQU5HRV9USU1FT1VUX01TKTsKICB9KTsKCiAgLy8gV2FpdCBmb3IgdGhlIHVzZXIgdG8gcGljayB0aGUgZmlsZXMuCiAgY29uc3QgZmlsZXMgPSB5aWVsZCB7CiAgICBwcm9taXNlOiBQcm9taXNlLnJhY2UoW3BpY2tlZFByb21pc2UsIHRpbWVvdXRQcm9taXNlLCBjYW5jZWxQcm9taXNlXSksCiAgICByZXNwb25zZTogewogICAgICBhY3Rpb246ICdzdGFydGluZycsCiAgICB9CiAgfTsKCiAgaWYgKCFmaWxlcykgewogICAgcmV0dXJuIHsKICAgICAgcmVzcG9uc2U6IHsKICAgICAgICBhY3Rpb246ICdjb21wbGV0ZScsCiAgICAgIH0KICAgIH07CiAgfQoKICBjYW5jZWwucmVtb3ZlKCk7CgogIC8vIERpc2FibGUgdGhlIGlucHV0IGVsZW1lbnQgc2luY2UgZnVydGhlciBwaWNrcyBhcmUgbm90IGFsbG93ZWQuCiAgaW5wdXRFbGVtZW50LmRpc2FibGVkID0gdHJ1ZTsKCiAgZm9yIChjb25zdCBmaWxlIG9mIGZpbGVzKSB7CiAgICBjb25zdCBsaSA9IGRvY3VtZW50LmNyZWF0ZUVsZW1lbnQoJ2xpJyk7CiAgICBsaS5hcHBlbmQoc3BhbihmaWxlLm5hbWUsIHtmb250V2VpZ2h0OiAnYm9sZCd9KSk7CiAgICBsaS5hcHBlbmQoc3BhbigKICAgICAgICBgKCR7ZmlsZS50eXBlIHx8ICduL2EnfSkgLSAke2ZpbGUuc2l6ZX0gYnl0ZXMsIGAgKwogICAgICAgIGBsYXN0IG1vZGlmaWVkOiAkewogICAgICAgICAgICBmaWxlLmxhc3RNb2RpZmllZERhdGUgPyBmaWxlLmxhc3RNb2RpZmllZERhdGUudG9Mb2NhbGVEYXRlU3RyaW5nKCkgOgogICAgICAgICAgICAgICAgICAgICAgICAgICAgICAgICAgICAnbi9hJ30gLSBgKSk7CiAgICBjb25zdCBwZXJjZW50ID0gc3BhbignMCUgZG9uZScpOwogICAgbGkuYXBwZW5kQ2hpbGQocGVyY2VudCk7CgogICAgb3V0cHV0RWxlbWVudC5hcHBlbmRDaGlsZChsaSk7CgogICAgY29uc3QgZmlsZURhdGFQcm9taXNlID0gbmV3IFByb21pc2UoKHJlc29sdmUpID0+IHsKICAgICAgY29uc3QgcmVhZGVyID0gbmV3IEZpbGVSZWFkZXIoKTsKICAgICAgcmVhZGVyLm9ubG9hZCA9IChlKSA9PiB7CiAgICAgICAgcmVzb2x2ZShlLnRhcmdldC5yZXN1bHQpOwogICAgICB9OwogICAgICByZWFkZXIucmVhZEFzQXJyYXlCdWZmZXIoZmlsZSk7CiAgICB9KTsKICAgIC8vIFdhaXQgZm9yIHRoZSBkYXRhIHRvIGJlIHJlYWR5LgogICAgbGV0IGZpbGVEYXRhID0geWllbGQgewogICAgICBwcm9taXNlOiBmaWxlRGF0YVByb21pc2UsCiAgICAgIHJlc3BvbnNlOiB7CiAgICAgICAgYWN0aW9uOiAnY29udGludWUnLAogICAgICB9CiAgICB9OwoKICAgIC8vIFVzZSBhIGNodW5rZWQgc2VuZGluZyB0byBhdm9pZCBtZXNzYWdlIHNpemUgbGltaXRzLiBTZWUgYi82MjExNTY2MC4KICAgIGxldCBwb3NpdGlvbiA9IDA7CiAgICB3aGlsZSAocG9zaXRpb24gPCBmaWxlRGF0YS5ieXRlTGVuZ3RoKSB7CiAgICAgIGNvbnN0IGxlbmd0aCA9IE1hdGgubWluKGZpbGVEYXRhLmJ5dGVMZW5ndGggLSBwb3NpdGlvbiwgTUFYX1BBWUxPQURfU0laRSk7CiAgICAgIGNvbnN0IGNodW5rID0gbmV3IFVpbnQ4QXJyYXkoZmlsZURhdGEsIHBvc2l0aW9uLCBsZW5ndGgpOwogICAgICBwb3NpdGlvbiArPSBsZW5ndGg7CgogICAgICBjb25zdCBiYXNlNjQgPSBidG9hKFN0cmluZy5mcm9tQ2hhckNvZGUuYXBwbHkobnVsbCwgY2h1bmspKTsKICAgICAgeWllbGQgewogICAgICAgIHJlc3BvbnNlOiB7CiAgICAgICAgICBhY3Rpb246ICdhcHBlbmQnLAogICAgICAgICAgZmlsZTogZmlsZS5uYW1lLAogICAgICAgICAgZGF0YTogYmFzZTY0LAogICAgICAgIH0sCiAgICAgIH07CiAgICAgIHBlcmNlbnQudGV4dENvbnRlbnQgPQogICAgICAgICAgYCR7TWF0aC5yb3VuZCgocG9zaXRpb24gLyBmaWxlRGF0YS5ieXRlTGVuZ3RoKSAqIDEwMCl9JSBkb25lYDsKICAgIH0KICB9CgogIC8vIEFsbCBkb25lLgogIHlpZWxkIHsKICAgIHJlc3BvbnNlOiB7CiAgICAgIGFjdGlvbjogJ2NvbXBsZXRlJywKICAgIH0KICB9Owp9CgpzY29wZS5nb29nbGUgPSBzY29wZS5nb29nbGUgfHwge307CnNjb3BlLmdvb2dsZS5jb2xhYiA9IHNjb3BlLmdvb2dsZS5jb2xhYiB8fCB7fTsKc2NvcGUuZ29vZ2xlLmNvbGFiLl9maWxlcyA9IHsKICBfdXBsb2FkRmlsZXMsCiAgX3VwbG9hZEZpbGVzQ29udGludWUsCn07Cn0pKHNlbGYpOwo=",
              "ok": true,
              "headers": [
                [
                  "content-type",
                  "application/javascript"
                ]
              ],
              "status": 200,
              "status_text": "OK"
            }
          },
          "base_uri": "https://localhost:8080/",
          "height": 45
        },
        "outputId": "26689c17-3f84-4e70-dbb1-5e61e3b00bb7",
        "executionInfo": {
          "status": "ok",
          "timestamp": 1527338572862,
          "user_tz": -330,
          "elapsed": 8072,
          "user": {
            "displayName": "Heet Sankesara",
            "photoUrl": "//lh5.googleusercontent.com/-mO3PS3oBtRQ/AAAAAAAAAAI/AAAAAAAAADs/_ic_rsddWU4/s50-c-k-no/photo.jpg",
            "userId": "112240562069909648160"
          }
        }
      },
      "cell_type": "code",
      "source": [
        "from google.colab import files\n",
        "\n",
        "uploaded = files.upload()\n",
        "\n",
        "for fn in uploaded.keys():\n",
        "  print('User uploaded file \"{name}\" with length {length} bytes'.format(\n",
        "      name=fn, length=len(uploaded[fn])))"
      ],
      "execution_count": 198,
      "outputs": [
        {
          "output_type": "display_data",
          "data": {
            "text/html": [
              "\n",
              "     <input type=\"file\" id=\"files-2fe38c95-bc46-4d93-9537-8470c8f9279c\" name=\"files[]\" multiple disabled />\n",
              "     <output id=\"result-2fe38c95-bc46-4d93-9537-8470c8f9279c\">\n",
              "      Upload widget is only available when the cell has been executed in the\n",
              "      current browser session. Please rerun this cell to enable.\n",
              "      </output>\n",
              "      <script src=\"/nbextensions/google.colab/files.js\"></script> "
            ],
            "text/plain": [
              "<IPython.core.display.HTML object>"
            ]
          },
          "metadata": {
            "tags": []
          }
        }
      ]
    },
    {
      "metadata": {
        "id": "hQ3BY88W9Ehp",
        "colab_type": "code",
        "colab": {
          "autoexec": {
            "startup": false,
            "wait_interval": 0
          },
          "base_uri": "https://localhost:8080/",
          "height": 428
        },
        "outputId": "c0a89dda-25a3-4b63-b97b-04261198b4b1",
        "executionInfo": {
          "status": "ok",
          "timestamp": 1527354262910,
          "user_tz": -330,
          "elapsed": 1371,
          "user": {
            "displayName": "Heet Sankesara",
            "photoUrl": "//lh5.googleusercontent.com/-mO3PS3oBtRQ/AAAAAAAAAAI/AAAAAAAAADs/_ic_rsddWU4/s50-c-k-no/photo.jpg",
            "userId": "112240562069909648160"
          }
        }
      },
      "cell_type": "code",
      "source": [
        "os.listdir('.')"
      ],
      "execution_count": 217,
      "outputs": [
        {
          "output_type": "execute_result",
          "data": {
            "text/plain": [
              "['datalab',\n",
              " '.local',\n",
              " 'sub007.csv',\n",
              " '.ipython',\n",
              " '.config',\n",
              " 'sub002.csv',\n",
              " '.forever',\n",
              " 'sub003.csv',\n",
              " 'sub006.csv',\n",
              " 'sub005.csv',\n",
              " 'information_test.csv',\n",
              " 'sub004.csv',\n",
              " 'test.csv',\n",
              " 'train_bnHAB63.zip',\n",
              " 'sub001.csv',\n",
              " 'test_c2Mvube.zip',\n",
              " 'train_bnHAB63 (1).zip',\n",
              " 'test_c2Mvube (1).zip',\n",
              " '.rnd',\n",
              " 'sample_submission_eSUXEfp.csv',\n",
              " 'information_train.csv',\n",
              " 'train.csv',\n",
              " '.cache']"
            ]
          },
          "metadata": {
            "tags": []
          },
          "execution_count": 217
        }
      ]
    },
    {
      "metadata": {
        "id": "hJTHlabI9_9j",
        "colab_type": "code",
        "colab": {
          "autoexec": {
            "startup": false,
            "wait_interval": 0
          }
        }
      },
      "cell_type": "code",
      "source": [
        ""
      ],
      "execution_count": 0,
      "outputs": []
    },
    {
      "metadata": {
        "id": "uGrLFxir9ZB3",
        "colab_type": "code",
        "colab": {
          "autoexec": {
            "startup": false,
            "wait_interval": 0
          },
          "base_uri": "https://localhost:8080/",
          "height": 71
        },
        "outputId": "cd361519-f544-481c-eec2-e5c72a01d877",
        "executionInfo": {
          "status": "ok",
          "timestamp": 1527338577736,
          "user_tz": -330,
          "elapsed": 1060,
          "user": {
            "displayName": "Heet Sankesara",
            "photoUrl": "//lh5.googleusercontent.com/-mO3PS3oBtRQ/AAAAAAAAAAI/AAAAAAAAADs/_ic_rsddWU4/s50-c-k-no/photo.jpg",
            "userId": "112240562069909648160"
          }
        }
      },
      "cell_type": "code",
      "source": [
        "!!unzip test_c2Mvube.zip"
      ],
      "execution_count": 200,
      "outputs": [
        {
          "output_type": "execute_result",
          "data": {
            "text/plain": [
              "['Archive:  test_c2Mvube.zip',\n",
              " 'replace information_test.csv? [y]es, [n]o, [A]ll, [N]one, [r]ename:  NULL',\n",
              " '(EOF or read error, treating as \"[N]one\" ...)']"
            ]
          },
          "metadata": {
            "tags": []
          },
          "execution_count": 200
        }
      ]
    },
    {
      "metadata": {
        "id": "BIbWHw7r9dJb",
        "colab_type": "code",
        "colab": {
          "autoexec": {
            "startup": false,
            "wait_interval": 0
          },
          "base_uri": "https://localhost:8080/",
          "height": 71
        },
        "outputId": "fd337c96-ebbe-423b-e7e1-364bed821c97",
        "executionInfo": {
          "status": "ok",
          "timestamp": 1527338579947,
          "user_tz": -330,
          "elapsed": 1340,
          "user": {
            "displayName": "Heet Sankesara",
            "photoUrl": "//lh5.googleusercontent.com/-mO3PS3oBtRQ/AAAAAAAAAAI/AAAAAAAAADs/_ic_rsddWU4/s50-c-k-no/photo.jpg",
            "userId": "112240562069909648160"
          }
        }
      },
      "cell_type": "code",
      "source": [
        "!!unzip train_bnHAB63\\ \\(1\\).zip"
      ],
      "execution_count": 201,
      "outputs": [
        {
          "output_type": "execute_result",
          "data": {
            "text/plain": [
              "['Archive:  train_bnHAB63 (1).zip',\n",
              " 'replace information_train.csv? [y]es, [n]o, [A]ll, [N]one, [r]ename:  NULL',\n",
              " '(EOF or read error, treating as \"[N]one\" ...)']"
            ]
          },
          "metadata": {
            "tags": []
          },
          "execution_count": 201
        }
      ]
    },
    {
      "metadata": {
        "id": "E9tpObOJ-A89",
        "colab_type": "code",
        "colab": {
          "autoexec": {
            "startup": false,
            "wait_interval": 0
          },
          "base_uri": "https://localhost:8080/",
          "height": 428
        },
        "outputId": "25314895-a1cb-479b-a899-3509fc0384d0",
        "executionInfo": {
          "status": "ok",
          "timestamp": 1527358886065,
          "user_tz": -330,
          "elapsed": 923,
          "user": {
            "displayName": "Heet Sankesara",
            "photoUrl": "//lh5.googleusercontent.com/-mO3PS3oBtRQ/AAAAAAAAAAI/AAAAAAAAADs/_ic_rsddWU4/s50-c-k-no/photo.jpg",
            "userId": "112240562069909648160"
          }
        }
      },
      "cell_type": "code",
      "source": [
        "os.listdir('.')"
      ],
      "execution_count": 2,
      "outputs": [
        {
          "output_type": "execute_result",
          "data": {
            "text/plain": [
              "['datalab',\n",
              " '.local',\n",
              " 'sub007.csv',\n",
              " '.ipython',\n",
              " '.config',\n",
              " 'sub002.csv',\n",
              " '.forever',\n",
              " 'sub003.csv',\n",
              " 'sub006.csv',\n",
              " 'sub005.csv',\n",
              " 'information_test.csv',\n",
              " 'sub004.csv',\n",
              " 'test.csv',\n",
              " 'train_bnHAB63.zip',\n",
              " 'sub001.csv',\n",
              " 'test_c2Mvube.zip',\n",
              " 'train_bnHAB63 (1).zip',\n",
              " 'test_c2Mvube (1).zip',\n",
              " '.rnd',\n",
              " 'sample_submission_eSUXEfp.csv',\n",
              " 'information_train.csv',\n",
              " 'train.csv',\n",
              " '.cache']"
            ]
          },
          "metadata": {
            "tags": []
          },
          "execution_count": 2
        }
      ]
    },
    {
      "metadata": {
        "id": "EquEUwEk8qoy",
        "colab_type": "code",
        "colab": {
          "autoexec": {
            "startup": false,
            "wait_interval": 0
          }
        }
      },
      "cell_type": "code",
      "source": [
        "df_train_data = pd.read_csv('./information_train.csv', sep= '\t')\n",
        "df_train_res = pd.read_csv('./train.csv')"
      ],
      "execution_count": 0,
      "outputs": []
    },
    {
      "metadata": {
        "id": "lAvEIC3t8qo_",
        "colab_type": "code",
        "colab": {
          "autoexec": {
            "startup": false,
            "wait_interval": 0
          }
        }
      },
      "cell_type": "code",
      "source": [
        "df_test_data = pd.read_csv('./information_test.csv', '\t')\n",
        "df_test_res = pd.read_csv('./test.csv')"
      ],
      "execution_count": 0,
      "outputs": []
    },
    {
      "metadata": {
        "id": "-T6WR1-Y8qpL",
        "colab_type": "code",
        "colab": {
          "autoexec": {
            "startup": false,
            "wait_interval": 0
          },
          "base_uri": "https://localhost:8080/",
          "height": 71
        },
        "outputId": "f6753728-087a-412f-d8b8-c9307e148f26",
        "executionInfo": {
          "status": "ok",
          "timestamp": 1527358896580,
          "user_tz": -330,
          "elapsed": 1063,
          "user": {
            "displayName": "Heet Sankesara",
            "photoUrl": "//lh5.googleusercontent.com/-mO3PS3oBtRQ/AAAAAAAAAAI/AAAAAAAAADs/_ic_rsddWU4/s50-c-k-no/photo.jpg",
            "userId": "112240562069909648160"
          }
        }
      },
      "cell_type": "code",
      "source": [
        "df_train_data.columns"
      ],
      "execution_count": 5,
      "outputs": [
        {
          "output_type": "execute_result",
          "data": {
            "text/plain": [
              "Index(['abstract', 'article_title', 'author_str', 'pmid', 'pub_date', 'set',\n",
              "       'full_Text'],\n",
              "      dtype='object')"
            ]
          },
          "metadata": {
            "tags": []
          },
          "execution_count": 5
        }
      ]
    },
    {
      "metadata": {
        "id": "pee2qGDH8qpg",
        "colab_type": "text"
      },
      "cell_type": "markdown",
      "source": [
        "## EDA"
      ]
    },
    {
      "metadata": {
        "id": "fxxbHZXR8qpk",
        "colab_type": "code",
        "colab": {
          "autoexec": {
            "startup": false,
            "wait_interval": 0
          },
          "base_uri": "https://localhost:8080/",
          "height": 55
        },
        "outputId": "9b1c98bc-437b-434f-dbd4-9cfaf94390de",
        "executionInfo": {
          "status": "ok",
          "timestamp": 1527358898729,
          "user_tz": -330,
          "elapsed": 1184,
          "user": {
            "displayName": "Heet Sankesara",
            "photoUrl": "//lh5.googleusercontent.com/-mO3PS3oBtRQ/AAAAAAAAAAI/AAAAAAAAADs/_ic_rsddWU4/s50-c-k-no/photo.jpg",
            "userId": "112240562069909648160"
          }
        }
      },
      "cell_type": "code",
      "source": [
        "df_train_data['abstract'].iloc[3]"
      ],
      "execution_count": 6,
      "outputs": [
        {
          "output_type": "execute_result",
          "data": {
            "text/plain": [
              "\"Protecting the confidentiality of genetic research data is an important aspect of genetic research that has been discussed in various forums. Research data must be protected to prevent discrimination and its use in litigation. The certificate of confidentiality was created to protect the subjects of alcohol- and drug-abuse studies, who may be engaging in illegal activities. As revised in 1988, the certificate protects investigators engaging in other kinds of studies from being compelled to reveal information about subjects. Because the certificate protects information that could damage a subject's financial or social standing or employability, it is an appropriate tool to use to maintain the confidentiality of genetic data. The Department of Health and Human Services issues the certificates; the procedure for applying for a certificate of confidentiality is presented.\""
            ]
          },
          "metadata": {
            "tags": []
          },
          "execution_count": 6
        }
      ]
    },
    {
      "metadata": {
        "id": "3sn4du0J8qpx",
        "colab_type": "code",
        "colab": {
          "autoexec": {
            "startup": false,
            "wait_interval": 0
          },
          "base_uri": "https://localhost:8080/",
          "height": 35
        },
        "outputId": "b577af90-c7e8-4b39-cf1b-751b9ce46371",
        "executionInfo": {
          "status": "ok",
          "timestamp": 1527358900452,
          "user_tz": -330,
          "elapsed": 1158,
          "user": {
            "displayName": "Heet Sankesara",
            "photoUrl": "//lh5.googleusercontent.com/-mO3PS3oBtRQ/AAAAAAAAAAI/AAAAAAAAADs/_ic_rsddWU4/s50-c-k-no/photo.jpg",
            "userId": "112240562069909648160"
          }
        }
      },
      "cell_type": "code",
      "source": [
        "df_train_data['article_title'].iloc[3]"
      ],
      "execution_count": 7,
      "outputs": [
        {
          "output_type": "execute_result",
          "data": {
            "text/plain": [
              "'Certificates of confidentiality: a valuable tool for protecting genetic data.'"
            ]
          },
          "metadata": {
            "tags": []
          },
          "execution_count": 7
        }
      ]
    },
    {
      "metadata": {
        "id": "8jM4ZhSe8qqA",
        "colab_type": "code",
        "colab": {
          "autoexec": {
            "startup": false,
            "wait_interval": 0
          },
          "base_uri": "https://localhost:8080/",
          "height": 35
        },
        "outputId": "aebc1a36-1a9a-45a4-a228-3d5ba453adad",
        "executionInfo": {
          "status": "ok",
          "timestamp": 1527358902353,
          "user_tz": -330,
          "elapsed": 1172,
          "user": {
            "displayName": "Heet Sankesara",
            "photoUrl": "//lh5.googleusercontent.com/-mO3PS3oBtRQ/AAAAAAAAAAI/AAAAAAAAADs/_ic_rsddWU4/s50-c-k-no/photo.jpg",
            "userId": "112240562069909648160"
          }
        }
      },
      "cell_type": "code",
      "source": [
        "df_train_data['author_str'].iloc[3]"
      ],
      "execution_count": 8,
      "outputs": [
        {
          "output_type": "execute_result",
          "data": {
            "text/plain": [
              "'C L Earley, L C Strong'"
            ]
          },
          "metadata": {
            "tags": []
          },
          "execution_count": 8
        }
      ]
    },
    {
      "metadata": {
        "id": "hYBUlzFE8qqQ",
        "colab_type": "code",
        "colab": {
          "autoexec": {
            "startup": false,
            "wait_interval": 0
          },
          "base_uri": "https://localhost:8080/",
          "height": 124
        },
        "outputId": "6dc8e525-32ca-443d-b050-f56c1fab9fbd",
        "executionInfo": {
          "status": "ok",
          "timestamp": 1527358904230,
          "user_tz": -330,
          "elapsed": 1485,
          "user": {
            "displayName": "Heet Sankesara",
            "photoUrl": "//lh5.googleusercontent.com/-mO3PS3oBtRQ/AAAAAAAAAAI/AAAAAAAAADs/_ic_rsddWU4/s50-c-k-no/photo.jpg",
            "userId": "112240562069909648160"
          }
        }
      },
      "cell_type": "code",
      "source": [
        "df_train_data['pub_date'].head()"
      ],
      "execution_count": 9,
      "outputs": [
        {
          "output_type": "execute_result",
          "data": {
            "text/plain": [
              "0    2006-11-01\n",
              "1    2008-02-25\n",
              "2    2008-02-20\n",
              "3    1995-09-01\n",
              "4    2003-05-13\n",
              "Name: pub_date, dtype: object"
            ]
          },
          "metadata": {
            "tags": []
          },
          "execution_count": 9
        }
      ]
    },
    {
      "metadata": {
        "id": "P2JRw-Qv8qqu",
        "colab_type": "code",
        "colab": {
          "autoexec": {
            "startup": false,
            "wait_interval": 0
          }
        }
      },
      "cell_type": "code",
      "source": [
        "df_train_data['pub_date'] = pd.to_datetime(df_train_data['pub_date'], format='%Y-%m-%d')"
      ],
      "execution_count": 0,
      "outputs": []
    },
    {
      "metadata": {
        "id": "vJVOSbKA8qq8",
        "colab_type": "code",
        "colab": {
          "autoexec": {
            "startup": false,
            "wait_interval": 0
          },
          "base_uri": "https://localhost:8080/",
          "height": 35
        },
        "outputId": "26d73b17-5c44-47b4-d3c7-e2137c601e60",
        "executionInfo": {
          "status": "ok",
          "timestamp": 1527358908662,
          "user_tz": -330,
          "elapsed": 1069,
          "user": {
            "displayName": "Heet Sankesara",
            "photoUrl": "//lh5.googleusercontent.com/-mO3PS3oBtRQ/AAAAAAAAAAI/AAAAAAAAADs/_ic_rsddWU4/s50-c-k-no/photo.jpg",
            "userId": "112240562069909648160"
          }
        }
      },
      "cell_type": "code",
      "source": [
        "df_train_data['set'].unique()"
      ],
      "execution_count": 11,
      "outputs": [
        {
          "output_type": "execute_result",
          "data": {
            "text/plain": [
              "array([13, 18, 16, 14,  3,  2,  6,  8,  5])"
            ]
          },
          "metadata": {
            "tags": []
          },
          "execution_count": 11
        }
      ]
    },
    {
      "metadata": {
        "id": "XcolwaQE8qrN",
        "colab_type": "code",
        "colab": {
          "autoexec": {
            "startup": false,
            "wait_interval": 0
          },
          "base_uri": "https://localhost:8080/",
          "height": 160
        },
        "outputId": "2664aaab-c723-4798-ef47-a427a2eed015",
        "executionInfo": {
          "status": "ok",
          "timestamp": 1527358911721,
          "user_tz": -330,
          "elapsed": 1043,
          "user": {
            "displayName": "Heet Sankesara",
            "photoUrl": "//lh5.googleusercontent.com/-mO3PS3oBtRQ/AAAAAAAAAAI/AAAAAAAAADs/_ic_rsddWU4/s50-c-k-no/photo.jpg",
            "userId": "112240562069909648160"
          }
        }
      },
      "cell_type": "code",
      "source": [
        "df_train_data[df_train_data['full_Text'].isna() == False].count()"
      ],
      "execution_count": 12,
      "outputs": [
        {
          "output_type": "execute_result",
          "data": {
            "text/plain": [
              "abstract         141\n",
              "article_title    141\n",
              "author_str       141\n",
              "pmid             141\n",
              "pub_date         141\n",
              "set              141\n",
              "full_Text        141\n",
              "dtype: int64"
            ]
          },
          "metadata": {
            "tags": []
          },
          "execution_count": 12
        }
      ]
    },
    {
      "metadata": {
        "id": "1kdiiHNL8qrf",
        "colab_type": "code",
        "colab": {
          "autoexec": {
            "startup": false,
            "wait_interval": 0
          },
          "base_uri": "https://localhost:8080/",
          "height": 231
        },
        "outputId": "748c97ef-390a-42dd-c20e-26ed853b76e8",
        "executionInfo": {
          "status": "ok",
          "timestamp": 1527358914243,
          "user_tz": -330,
          "elapsed": 1003,
          "user": {
            "displayName": "Heet Sankesara",
            "photoUrl": "//lh5.googleusercontent.com/-mO3PS3oBtRQ/AAAAAAAAAAI/AAAAAAAAADs/_ic_rsddWU4/s50-c-k-no/photo.jpg",
            "userId": "112240562069909648160"
          }
        }
      },
      "cell_type": "code",
      "source": [
        "df_train_data.info()"
      ],
      "execution_count": 13,
      "outputs": [
        {
          "output_type": "stream",
          "text": [
            "<class 'pandas.core.frame.DataFrame'>\n",
            "RangeIndex: 3522 entries, 0 to 3521\n",
            "Data columns (total 7 columns):\n",
            "abstract         3522 non-null object\n",
            "article_title    3522 non-null object\n",
            "author_str       3089 non-null object\n",
            "pmid             3522 non-null int64\n",
            "pub_date         3522 non-null datetime64[ns]\n",
            "set              3522 non-null int64\n",
            "full_Text        141 non-null object\n",
            "dtypes: datetime64[ns](1), int64(2), object(4)\n",
            "memory usage: 192.7+ KB\n"
          ],
          "name": "stdout"
        }
      ]
    },
    {
      "metadata": {
        "id": "b57T3i4s8qrr",
        "colab_type": "code",
        "colab": {
          "autoexec": {
            "startup": false,
            "wait_interval": 0
          },
          "base_uri": "https://localhost:8080/",
          "height": 206
        },
        "outputId": "ff1ba175-36f2-438e-83ce-50d7176bca96",
        "executionInfo": {
          "status": "ok",
          "timestamp": 1527358915601,
          "user_tz": -330,
          "elapsed": 1062,
          "user": {
            "displayName": "Heet Sankesara",
            "photoUrl": "//lh5.googleusercontent.com/-mO3PS3oBtRQ/AAAAAAAAAAI/AAAAAAAAADs/_ic_rsddWU4/s50-c-k-no/photo.jpg",
            "userId": "112240562069909648160"
          }
        }
      },
      "cell_type": "code",
      "source": [
        "df_train_res.head()"
      ],
      "execution_count": 14,
      "outputs": [
        {
          "output_type": "execute_result",
          "data": {
            "text/html": [
              "<div>\n",
              "<style scoped>\n",
              "    .dataframe tbody tr th:only-of-type {\n",
              "        vertical-align: middle;\n",
              "    }\n",
              "\n",
              "    .dataframe tbody tr th {\n",
              "        vertical-align: top;\n",
              "    }\n",
              "\n",
              "    .dataframe thead th {\n",
              "        text-align: right;\n",
              "    }\n",
              "</style>\n",
              "<table border=\"1\" class=\"dataframe\">\n",
              "  <thead>\n",
              "    <tr style=\"text-align: right;\">\n",
              "      <th></th>\n",
              "      <th>pmid</th>\n",
              "      <th>ref_list</th>\n",
              "    </tr>\n",
              "  </thead>\n",
              "  <tbody>\n",
              "    <tr>\n",
              "      <th>0</th>\n",
              "      <td>17074820</td>\n",
              "      <td>['15153999', '15213210', '7668302']</td>\n",
              "    </tr>\n",
              "    <tr>\n",
              "      <th>1</th>\n",
              "      <td>15153999</td>\n",
              "      <td>['12721363', '9096352', '10788337', '9114021',...</td>\n",
              "    </tr>\n",
              "    <tr>\n",
              "      <th>2</th>\n",
              "      <td>15213210</td>\n",
              "      <td>['11466240', '12184798']</td>\n",
              "    </tr>\n",
              "    <tr>\n",
              "      <th>3</th>\n",
              "      <td>7668302</td>\n",
              "      <td>['1539589']</td>\n",
              "    </tr>\n",
              "    <tr>\n",
              "      <th>4</th>\n",
              "      <td>12721363</td>\n",
              "      <td>['9465087', '11842208', '11309498', '9465125',...</td>\n",
              "    </tr>\n",
              "  </tbody>\n",
              "</table>\n",
              "</div>"
            ],
            "text/plain": [
              "       pmid                                           ref_list\n",
              "0  17074820                ['15153999', '15213210', '7668302']\n",
              "1  15153999  ['12721363', '9096352', '10788337', '9114021',...\n",
              "2  15213210                           ['11466240', '12184798']\n",
              "3   7668302                                        ['1539589']\n",
              "4  12721363  ['9465087', '11842208', '11309498', '9465125',..."
            ]
          },
          "metadata": {
            "tags": []
          },
          "execution_count": 14
        }
      ]
    },
    {
      "metadata": {
        "id": "p4H4xerr8qr4",
        "colab_type": "code",
        "colab": {
          "autoexec": {
            "startup": false,
            "wait_interval": 0
          }
        }
      },
      "cell_type": "code",
      "source": [
        "df_train_data = df_train_data.merge(df_train_res)"
      ],
      "execution_count": 0,
      "outputs": []
    },
    {
      "metadata": {
        "id": "Y7GEttY98qr9",
        "colab_type": "code",
        "colab": {
          "autoexec": {
            "startup": false,
            "wait_interval": 0
          },
          "base_uri": "https://localhost:8080/",
          "height": 35
        },
        "outputId": "8fed4da3-5715-4f88-8766-4a1d9ad95410",
        "executionInfo": {
          "status": "ok",
          "timestamp": 1527358926105,
          "user_tz": -330,
          "elapsed": 2536,
          "user": {
            "displayName": "Heet Sankesara",
            "photoUrl": "//lh5.googleusercontent.com/-mO3PS3oBtRQ/AAAAAAAAAAI/AAAAAAAAADs/_ic_rsddWU4/s50-c-k-no/photo.jpg",
            "userId": "112240562069909648160"
          }
        }
      },
      "cell_type": "code",
      "source": [
        "m = df_train_data.shape[0]\n",
        "m"
      ],
      "execution_count": 16,
      "outputs": [
        {
          "output_type": "execute_result",
          "data": {
            "text/plain": [
              "3522"
            ]
          },
          "metadata": {
            "tags": []
          },
          "execution_count": 16
        }
      ]
    },
    {
      "metadata": {
        "id": "WYzDHqPo8qsN",
        "colab_type": "code",
        "colab": {
          "autoexec": {
            "startup": false,
            "wait_interval": 0
          },
          "base_uri": "https://localhost:8080/",
          "height": 35
        },
        "outputId": "3726b392-d6d8-4010-a73e-9c408e1c15ed",
        "executionInfo": {
          "status": "ok",
          "timestamp": 1527358932241,
          "user_tz": -330,
          "elapsed": 1703,
          "user": {
            "displayName": "Heet Sankesara",
            "photoUrl": "//lh5.googleusercontent.com/-mO3PS3oBtRQ/AAAAAAAAAAI/AAAAAAAAADs/_ic_rsddWU4/s50-c-k-no/photo.jpg",
            "userId": "112240562069909648160"
          }
        }
      },
      "cell_type": "code",
      "source": [
        "df_train_data['ref_list'].iloc[0]"
      ],
      "execution_count": 17,
      "outputs": [
        {
          "output_type": "execute_result",
          "data": {
            "text/plain": [
              "\"['15153999', '15213210', '7668302']\""
            ]
          },
          "metadata": {
            "tags": []
          },
          "execution_count": 17
        }
      ]
    },
    {
      "metadata": {
        "id": "Zvts2gOQ8qsk",
        "colab_type": "code",
        "colab": {
          "autoexec": {
            "startup": false,
            "wait_interval": 0
          },
          "base_uri": "https://localhost:8080/",
          "height": 126
        },
        "outputId": "eda8d6c4-a625-485c-e520-10ecb471a7ad",
        "executionInfo": {
          "status": "ok",
          "timestamp": 1527359174176,
          "user_tz": -330,
          "elapsed": 240503,
          "user": {
            "displayName": "Heet Sankesara",
            "photoUrl": "//lh5.googleusercontent.com/-mO3PS3oBtRQ/AAAAAAAAAAI/AAAAAAAAADs/_ic_rsddWU4/s50-c-k-no/photo.jpg",
            "userId": "112240562069909648160"
          }
        }
      },
      "cell_type": "code",
      "source": [
        "for i in range(m):\n",
        "    df_train_data['ref_list'].iloc[i] = [int(x.strip()[1:-1]) for x in df_train_data['ref_list'][i][1:-1].split(',')]"
      ],
      "execution_count": 18,
      "outputs": [
        {
          "output_type": "stream",
          "text": [
            "/usr/local/lib/python3.6/dist-packages/pandas/core/indexing.py:194: SettingWithCopyWarning: \n",
            "A value is trying to be set on a copy of a slice from a DataFrame\n",
            "\n",
            "See the caveats in the documentation: http://pandas.pydata.org/pandas-docs/stable/indexing.html#indexing-view-versus-copy\n",
            "  self._setitem_with_indexer(indexer, value)\n"
          ],
          "name": "stderr"
        }
      ]
    },
    {
      "metadata": {
        "id": "eAwDIjK-8qs7",
        "colab_type": "code",
        "colab": {
          "autoexec": {
            "startup": false,
            "wait_interval": 0
          },
          "base_uri": "https://localhost:8080/",
          "height": 449
        },
        "outputId": "f6596faf-746f-4f39-d9cb-9288e173def4",
        "executionInfo": {
          "status": "ok",
          "timestamp": 1527359175496,
          "user_tz": -330,
          "elapsed": 1164,
          "user": {
            "displayName": "Heet Sankesara",
            "photoUrl": "//lh5.googleusercontent.com/-mO3PS3oBtRQ/AAAAAAAAAAI/AAAAAAAAADs/_ic_rsddWU4/s50-c-k-no/photo.jpg",
            "userId": "112240562069909648160"
          }
        }
      },
      "cell_type": "code",
      "source": [
        "df_train_data.head()"
      ],
      "execution_count": 19,
      "outputs": [
        {
          "output_type": "execute_result",
          "data": {
            "text/html": [
              "<div>\n",
              "<style scoped>\n",
              "    .dataframe tbody tr th:only-of-type {\n",
              "        vertical-align: middle;\n",
              "    }\n",
              "\n",
              "    .dataframe tbody tr th {\n",
              "        vertical-align: top;\n",
              "    }\n",
              "\n",
              "    .dataframe thead th {\n",
              "        text-align: right;\n",
              "    }\n",
              "</style>\n",
              "<table border=\"1\" class=\"dataframe\">\n",
              "  <thead>\n",
              "    <tr style=\"text-align: right;\">\n",
              "      <th></th>\n",
              "      <th>abstract</th>\n",
              "      <th>article_title</th>\n",
              "      <th>author_str</th>\n",
              "      <th>pmid</th>\n",
              "      <th>pub_date</th>\n",
              "      <th>set</th>\n",
              "      <th>full_Text</th>\n",
              "      <th>ref_list</th>\n",
              "    </tr>\n",
              "  </thead>\n",
              "  <tbody>\n",
              "    <tr>\n",
              "      <th>0</th>\n",
              "      <td>Among bioethicists and members of the public, ...</td>\n",
              "      <td>The routinisation of genomics and genetics: im...</td>\n",
              "      <td>M W Foster, C D M Royal, R R Sharp</td>\n",
              "      <td>17074820</td>\n",
              "      <td>2006-11-01</td>\n",
              "      <td>13</td>\n",
              "      <td>NaN</td>\n",
              "      <td>[15153999, 15213210, 7668302]</td>\n",
              "    </tr>\n",
              "    <tr>\n",
              "      <th>1</th>\n",
              "      <td>Genomics resources that use samples from ident...</td>\n",
              "      <td>Integrating ethics and science in the Internat...</td>\n",
              "      <td>NaN</td>\n",
              "      <td>15153999</td>\n",
              "      <td>2008-02-25</td>\n",
              "      <td>13</td>\n",
              "      <td>NaN</td>\n",
              "      <td>[12721363, 9096352, 10788337, 9114021, 10330360]</td>\n",
              "    </tr>\n",
              "    <tr>\n",
              "      <th>2</th>\n",
              "      <td>Alleviating health disparities in the United S...</td>\n",
              "      <td>Genetic Research and Health Disparities</td>\n",
              "      <td>Pamela Sankar, Mildred K. Cho, Celeste M. Cond...</td>\n",
              "      <td>15213210</td>\n",
              "      <td>2008-02-20</td>\n",
              "      <td>13</td>\n",
              "      <td>NaN</td>\n",
              "      <td>[11466240, 12184798]</td>\n",
              "    </tr>\n",
              "    <tr>\n",
              "      <th>3</th>\n",
              "      <td>Protecting the confidentiality of genetic rese...</td>\n",
              "      <td>Certificates of confidentiality: a valuable to...</td>\n",
              "      <td>C L Earley, L C Strong</td>\n",
              "      <td>7668302</td>\n",
              "      <td>1995-09-01</td>\n",
              "      <td>13</td>\n",
              "      <td>NaN</td>\n",
              "      <td>[1539589]</td>\n",
              "    </tr>\n",
              "    <tr>\n",
              "      <th>4</th>\n",
              "      <td>Whereas the human linkage map appears on limit...</td>\n",
              "      <td>Linkage disequilibrium in human populations</td>\n",
              "      <td>Christine Lonjou, Weihua Zhang, Andrew Collins...</td>\n",
              "      <td>12721363</td>\n",
              "      <td>2003-05-13</td>\n",
              "      <td>13</td>\n",
              "      <td>NaN</td>\n",
              "      <td>[9465087, 11842208, 11309498, 9465125, 9990074...</td>\n",
              "    </tr>\n",
              "  </tbody>\n",
              "</table>\n",
              "</div>"
            ],
            "text/plain": [
              "                                            abstract  \\\n",
              "0  Among bioethicists and members of the public, ...   \n",
              "1  Genomics resources that use samples from ident...   \n",
              "2  Alleviating health disparities in the United S...   \n",
              "3  Protecting the confidentiality of genetic rese...   \n",
              "4  Whereas the human linkage map appears on limit...   \n",
              "\n",
              "                                       article_title  \\\n",
              "0  The routinisation of genomics and genetics: im...   \n",
              "1  Integrating ethics and science in the Internat...   \n",
              "2            Genetic Research and Health Disparities   \n",
              "3  Certificates of confidentiality: a valuable to...   \n",
              "4        Linkage disequilibrium in human populations   \n",
              "\n",
              "                                          author_str      pmid   pub_date  \\\n",
              "0                 M W Foster, C D M Royal, R R Sharp  17074820 2006-11-01   \n",
              "1                                                NaN  15153999 2008-02-25   \n",
              "2  Pamela Sankar, Mildred K. Cho, Celeste M. Cond...  15213210 2008-02-20   \n",
              "3                             C L Earley, L C Strong   7668302 1995-09-01   \n",
              "4  Christine Lonjou, Weihua Zhang, Andrew Collins...  12721363 2003-05-13   \n",
              "\n",
              "   set full_Text                                           ref_list  \n",
              "0   13       NaN                      [15153999, 15213210, 7668302]  \n",
              "1   13       NaN   [12721363, 9096352, 10788337, 9114021, 10330360]  \n",
              "2   13       NaN                               [11466240, 12184798]  \n",
              "3   13       NaN                                          [1539589]  \n",
              "4   13       NaN  [9465087, 11842208, 11309498, 9465125, 9990074...  "
            ]
          },
          "metadata": {
            "tags": []
          },
          "execution_count": 19
        }
      ]
    },
    {
      "metadata": {
        "id": "qDYybfp98qtN",
        "colab_type": "code",
        "colab": {
          "autoexec": {
            "startup": false,
            "wait_interval": 0
          }
        }
      },
      "cell_type": "code",
      "source": [
        ""
      ],
      "execution_count": 0,
      "outputs": []
    },
    {
      "metadata": {
        "id": "2RcSJKvK8qtb",
        "colab_type": "code",
        "colab": {
          "autoexec": {
            "startup": false,
            "wait_interval": 0
          }
        }
      },
      "cell_type": "code",
      "source": [
        ""
      ],
      "execution_count": 0,
      "outputs": []
    },
    {
      "metadata": {
        "id": "4UvxX-DD8qtn",
        "colab_type": "code",
        "colab": {
          "autoexec": {
            "startup": false,
            "wait_interval": 0
          }
        }
      },
      "cell_type": "code",
      "source": [
        "sets = df_train_data['set'].unique()"
      ],
      "execution_count": 0,
      "outputs": []
    },
    {
      "metadata": {
        "id": "NYBJzGD38quC",
        "colab_type": "code",
        "colab": {
          "autoexec": {
            "startup": false,
            "wait_interval": 0
          }
        }
      },
      "cell_type": "code",
      "source": [
        "from sklearn.feature_extraction.text import CountVectorizer"
      ],
      "execution_count": 0,
      "outputs": []
    },
    {
      "metadata": {
        "id": "humRaPl_cTcU",
        "colab_type": "code",
        "colab": {
          "autoexec": {
            "startup": false,
            "wait_interval": 0
          }
        }
      },
      "cell_type": "code",
      "source": [
        ""
      ],
      "execution_count": 0,
      "outputs": []
    },
    {
      "metadata": {
        "id": "7jiYjYKx8quG",
        "colab_type": "code",
        "colab": {
          "autoexec": {
            "startup": false,
            "wait_interval": 0
          }
        }
      },
      "cell_type": "code",
      "source": [
        "count_vec = CountVectorizer(stop_words='english')"
      ],
      "execution_count": 0,
      "outputs": []
    },
    {
      "metadata": {
        "id": "PrMdUgz48quK",
        "colab_type": "code",
        "colab": {
          "autoexec": {
            "startup": false,
            "wait_interval": 0
          }
        }
      },
      "cell_type": "code",
      "source": [
        "X_train_count = count_vec.fit_transform(df_train_data['abstract'])"
      ],
      "execution_count": 0,
      "outputs": []
    },
    {
      "metadata": {
        "id": "LJyOXp3J8quV",
        "colab_type": "code",
        "colab": {
          "autoexec": {
            "startup": false,
            "wait_interval": 0
          },
          "base_uri": "https://localhost:8080/",
          "height": 35
        },
        "outputId": "4a26335f-e667-4297-f31c-cfad933d9c2e",
        "executionInfo": {
          "status": "ok",
          "timestamp": 1527359188790,
          "user_tz": -330,
          "elapsed": 960,
          "user": {
            "displayName": "Heet Sankesara",
            "photoUrl": "//lh5.googleusercontent.com/-mO3PS3oBtRQ/AAAAAAAAAAI/AAAAAAAAADs/_ic_rsddWU4/s50-c-k-no/photo.jpg",
            "userId": "112240562069909648160"
          }
        }
      },
      "cell_type": "code",
      "source": [
        "X_train_count.shape"
      ],
      "execution_count": 24,
      "outputs": [
        {
          "output_type": "execute_result",
          "data": {
            "text/plain": [
              "(3522, 23740)"
            ]
          },
          "metadata": {
            "tags": []
          },
          "execution_count": 24
        }
      ]
    },
    {
      "metadata": {
        "id": "uThnxatN8qug",
        "colab_type": "code",
        "colab": {
          "autoexec": {
            "startup": false,
            "wait_interval": 0
          },
          "base_uri": "https://localhost:8080/",
          "height": 35
        },
        "outputId": "168d8b90-e6b8-4f27-bb7f-145ddc7d6bf0",
        "executionInfo": {
          "status": "ok",
          "timestamp": 1527359190372,
          "user_tz": -330,
          "elapsed": 1058,
          "user": {
            "displayName": "Heet Sankesara",
            "photoUrl": "//lh5.googleusercontent.com/-mO3PS3oBtRQ/AAAAAAAAAAI/AAAAAAAAADs/_ic_rsddWU4/s50-c-k-no/photo.jpg",
            "userId": "112240562069909648160"
          }
        }
      },
      "cell_type": "code",
      "source": [
        "X_train_count.shape"
      ],
      "execution_count": 25,
      "outputs": [
        {
          "output_type": "execute_result",
          "data": {
            "text/plain": [
              "(3522, 23740)"
            ]
          },
          "metadata": {
            "tags": []
          },
          "execution_count": 25
        }
      ]
    },
    {
      "metadata": {
        "id": "NtBFbc9L8qut",
        "colab_type": "code",
        "colab": {
          "autoexec": {
            "startup": false,
            "wait_interval": 0
          },
          "base_uri": "https://localhost:8080/",
          "height": 35
        },
        "outputId": "36f5b1ba-c221-423a-940c-76e0c2c5582d",
        "executionInfo": {
          "status": "ok",
          "timestamp": 1527359191840,
          "user_tz": -330,
          "elapsed": 977,
          "user": {
            "displayName": "Heet Sankesara",
            "photoUrl": "//lh5.googleusercontent.com/-mO3PS3oBtRQ/AAAAAAAAAAI/AAAAAAAAADs/_ic_rsddWU4/s50-c-k-no/photo.jpg",
            "userId": "112240562069909648160"
          }
        }
      },
      "cell_type": "code",
      "source": [
        "count_vec.vocabulary_.get(u'algorithm')"
      ],
      "execution_count": 26,
      "outputs": [
        {
          "output_type": "execute_result",
          "data": {
            "text/plain": [
              "2300"
            ]
          },
          "metadata": {
            "tags": []
          },
          "execution_count": 26
        }
      ]
    },
    {
      "metadata": {
        "id": "wUI1Ra9k8qvB",
        "colab_type": "code",
        "colab": {
          "autoexec": {
            "startup": false,
            "wait_interval": 0
          }
        }
      },
      "cell_type": "code",
      "source": [
        "from sklearn.feature_extraction.text import TfidfTransformer"
      ],
      "execution_count": 0,
      "outputs": []
    },
    {
      "metadata": {
        "id": "fjiqm9Bp8qvF",
        "colab_type": "code",
        "colab": {
          "autoexec": {
            "startup": false,
            "wait_interval": 0
          }
        }
      },
      "cell_type": "code",
      "source": [
        " tf_transformer = TfidfTransformer(use_idf=False).fit(X_train_count)"
      ],
      "execution_count": 0,
      "outputs": []
    },
    {
      "metadata": {
        "id": "_OdPIFgz8qvI",
        "colab_type": "code",
        "colab": {
          "autoexec": {
            "startup": false,
            "wait_interval": 0
          }
        }
      },
      "cell_type": "code",
      "source": [
        "X_train_tf = tf_transformer.transform(X_train_count)"
      ],
      "execution_count": 0,
      "outputs": []
    },
    {
      "metadata": {
        "id": "LlDOGBUd8qvN",
        "colab_type": "code",
        "colab": {
          "autoexec": {
            "startup": false,
            "wait_interval": 0
          }
        }
      },
      "cell_type": "code",
      "source": [
        "def sparse_corrcoef(A, B=None):\n",
        "\n",
        "    if B is not None:\n",
        "        A = sparse.vstack((A, B), format='csr')\n",
        "\n",
        "    A = A.astype(np.float64)\n",
        "    n = A.shape[1]\n",
        "\n",
        "    # Compute the covariance matrix\n",
        "    rowsum = A.sum(1)\n",
        "    centering = rowsum.dot(rowsum.T.conjugate()) / n\n",
        "    C = (A.dot(A.T.conjugate()) - centering) / (n - 1)\n",
        "\n",
        "    # The correlation coefficients are given by\n",
        "    # C_{i,j} / sqrt(C_{i} * C_{j})\n",
        "    d = np.diag(C)\n",
        "    coeffs = C / np.sqrt(np.outer(d, d))\n",
        "\n",
        "    return coeffs"
      ],
      "execution_count": 0,
      "outputs": []
    },
    {
      "metadata": {
        "id": "QYD7kFNQ8qvS",
        "colab_type": "code",
        "colab": {
          "autoexec": {
            "startup": false,
            "wait_interval": 0
          }
        }
      },
      "cell_type": "code",
      "source": [
        "from scipy.sparse import csr_matrix\n",
        "from scipy.sparse import vstack"
      ],
      "execution_count": 0,
      "outputs": []
    },
    {
      "metadata": {
        "id": "c4CuXI7l8qvX",
        "colab_type": "code",
        "colab": {
          "autoexec": {
            "startup": false,
            "wait_interval": 0
          }
        }
      },
      "cell_type": "code",
      "source": [
        "count_vec_abstract = CountVectorizer()"
      ],
      "execution_count": 0,
      "outputs": []
    },
    {
      "metadata": {
        "id": "c-Hv15dy8qvc",
        "colab_type": "code",
        "colab": {
          "autoexec": {
            "startup": false,
            "wait_interval": 0
          }
        }
      },
      "cell_type": "code",
      "source": [
        "abstract_vec = count_vec_abstract.fit_transform(df_train_data['abstract'])"
      ],
      "execution_count": 0,
      "outputs": []
    },
    {
      "metadata": {
        "id": "w84btr548qvo",
        "colab_type": "code",
        "colab": {
          "autoexec": {
            "startup": false,
            "wait_interval": 0
          },
          "base_uri": "https://localhost:8080/",
          "height": 35
        },
        "outputId": "240abb3a-c00f-4fbf-df1a-dcf922d5e0c3",
        "executionInfo": {
          "status": "ok",
          "timestamp": 1527359213585,
          "user_tz": -330,
          "elapsed": 964,
          "user": {
            "displayName": "Heet Sankesara",
            "photoUrl": "//lh5.googleusercontent.com/-mO3PS3oBtRQ/AAAAAAAAAAI/AAAAAAAAADs/_ic_rsddWU4/s50-c-k-no/photo.jpg",
            "userId": "112240562069909648160"
          }
        }
      },
      "cell_type": "code",
      "source": [
        "abstract_vec.shape"
      ],
      "execution_count": 41,
      "outputs": [
        {
          "output_type": "execute_result",
          "data": {
            "text/plain": [
              "(3522, 24004)"
            ]
          },
          "metadata": {
            "tags": []
          },
          "execution_count": 41
        }
      ]
    },
    {
      "metadata": {
        "id": "5IOEmzuE8qv8",
        "colab_type": "code",
        "colab": {
          "autoexec": {
            "startup": false,
            "wait_interval": 0
          }
        }
      },
      "cell_type": "code",
      "source": [
        "count_vec_title = CountVectorizer()"
      ],
      "execution_count": 0,
      "outputs": []
    },
    {
      "metadata": {
        "id": "8z34wevD8qwA",
        "colab_type": "code",
        "colab": {
          "autoexec": {
            "startup": false,
            "wait_interval": 0
          }
        }
      },
      "cell_type": "code",
      "source": [
        "title_vec = count_vec_title.fit_transform(df_train_data['article_title'])"
      ],
      "execution_count": 0,
      "outputs": []
    },
    {
      "metadata": {
        "id": "tHBcdL3t8qwE",
        "colab_type": "code",
        "colab": {
          "autoexec": {
            "startup": false,
            "wait_interval": 0
          },
          "base_uri": "https://localhost:8080/",
          "height": 35
        },
        "outputId": "20e10280-eeaf-4ac2-9828-5ad33efd65af",
        "executionInfo": {
          "status": "ok",
          "timestamp": 1527359220410,
          "user_tz": -330,
          "elapsed": 971,
          "user": {
            "displayName": "Heet Sankesara",
            "photoUrl": "//lh5.googleusercontent.com/-mO3PS3oBtRQ/AAAAAAAAAAI/AAAAAAAAADs/_ic_rsddWU4/s50-c-k-no/photo.jpg",
            "userId": "112240562069909648160"
          }
        }
      },
      "cell_type": "code",
      "source": [
        "title_vec.shape"
      ],
      "execution_count": 46,
      "outputs": [
        {
          "output_type": "execute_result",
          "data": {
            "text/plain": [
              "(3522, 6696)"
            ]
          },
          "metadata": {
            "tags": []
          },
          "execution_count": 46
        }
      ]
    },
    {
      "metadata": {
        "id": "33LIerRZ8qwL",
        "colab_type": "code",
        "colab": {
          "autoexec": {
            "startup": false,
            "wait_interval": 0
          }
        }
      },
      "cell_type": "code",
      "source": [
        "tf_transformer = TfidfTransformer(use_idf=False).fit(abstract_vec)"
      ],
      "execution_count": 0,
      "outputs": []
    },
    {
      "metadata": {
        "id": "XvxBcKPY8qwP",
        "colab_type": "code",
        "colab": {
          "autoexec": {
            "startup": false,
            "wait_interval": 0
          }
        }
      },
      "cell_type": "code",
      "source": [
        "abstract_vec = tf_transformer.transform(abstract_vec)"
      ],
      "execution_count": 0,
      "outputs": []
    },
    {
      "metadata": {
        "id": "uV1bEpRV8qwV",
        "colab_type": "code",
        "colab": {
          "autoexec": {
            "startup": false,
            "wait_interval": 0
          },
          "base_uri": "https://localhost:8080/",
          "height": 35
        },
        "outputId": "af4d1e32-457e-4ed1-f029-35085c620c0c",
        "executionInfo": {
          "status": "ok",
          "timestamp": 1527359228401,
          "user_tz": -330,
          "elapsed": 1164,
          "user": {
            "displayName": "Heet Sankesara",
            "photoUrl": "//lh5.googleusercontent.com/-mO3PS3oBtRQ/AAAAAAAAAAI/AAAAAAAAADs/_ic_rsddWU4/s50-c-k-no/photo.jpg",
            "userId": "112240562069909648160"
          }
        }
      },
      "cell_type": "code",
      "source": [
        "abstract_vec.shape"
      ],
      "execution_count": 51,
      "outputs": [
        {
          "output_type": "execute_result",
          "data": {
            "text/plain": [
              "(3522, 24004)"
            ]
          },
          "metadata": {
            "tags": []
          },
          "execution_count": 51
        }
      ]
    },
    {
      "metadata": {
        "id": "r9M7hNrh8qwc",
        "colab_type": "code",
        "colab": {
          "autoexec": {
            "startup": false,
            "wait_interval": 0
          }
        }
      },
      "cell_type": "code",
      "source": [
        "tf_transformer = TfidfTransformer(use_idf=False).fit(title_vec)\n",
        "title_vec= tf_transformer.transform(title_vec)"
      ],
      "execution_count": 0,
      "outputs": []
    },
    {
      "metadata": {
        "id": "t5jpKwlj8qwg",
        "colab_type": "code",
        "colab": {
          "autoexec": {
            "startup": false,
            "wait_interval": 0
          },
          "base_uri": "https://localhost:8080/",
          "height": 35
        },
        "outputId": "d4ac00ee-fc91-453f-e6fe-2e876b23c662",
        "executionInfo": {
          "status": "ok",
          "timestamp": 1527359232660,
          "user_tz": -330,
          "elapsed": 924,
          "user": {
            "displayName": "Heet Sankesara",
            "photoUrl": "//lh5.googleusercontent.com/-mO3PS3oBtRQ/AAAAAAAAAAI/AAAAAAAAADs/_ic_rsddWU4/s50-c-k-no/photo.jpg",
            "userId": "112240562069909648160"
          }
        }
      },
      "cell_type": "code",
      "source": [
        "title_vec.shape"
      ],
      "execution_count": 54,
      "outputs": [
        {
          "output_type": "execute_result",
          "data": {
            "text/plain": [
              "(3522, 6696)"
            ]
          },
          "metadata": {
            "tags": []
          },
          "execution_count": 54
        }
      ]
    },
    {
      "metadata": {
        "id": "7z0dvJ1R8qwm",
        "colab_type": "code",
        "colab": {
          "autoexec": {
            "startup": false,
            "wait_interval": 0
          }
        }
      },
      "cell_type": "code",
      "source": [
        "vec_ab = {}\n",
        "vec_title = {}\n",
        "df = {}\n",
        "indx= {}"
      ],
      "execution_count": 0,
      "outputs": []
    },
    {
      "metadata": {
        "id": "wDajZ_qK8qwp",
        "colab_type": "code",
        "colab": {
          "autoexec": {
            "startup": false,
            "wait_interval": 0
          }
        }
      },
      "cell_type": "code",
      "source": [
        "for i in sets:\n",
        "    df[i] = df_train_data[df_train_data['set'] == i].reset_index()\n",
        "    index = df_train_data[df_train_data['set'] == i].index\n",
        "    m = len(index)\n",
        "    vec_ab[i] = abstract_vec[index[0]]\n",
        "    vec_title[i] = title_vec[index[0]]\n",
        "    indx[i] = {}\n",
        "    indx[i][df[i]['pmid'].iloc[0]] = 0\n",
        "    for j in range(1, m):\n",
        "        vec_ab[i] = vstack([vec_ab[i], abstract_vec[index[j]]])\n",
        "        vec_title[i] = vstack([vec_title[i], title_vec[index[j]]])\n",
        "        indx[i][df[i]['pmid'].iloc[j]] = j\n",
        "    df[i].drop('index', axis = 1, inplace = True)"
      ],
      "execution_count": 0,
      "outputs": []
    },
    {
      "metadata": {
        "id": "YsUi1fKf8qwt",
        "colab_type": "code",
        "colab": {
          "autoexec": {
            "startup": false,
            "wait_interval": 0
          },
          "base_uri": "https://localhost:8080/",
          "height": 415
        },
        "outputId": "7934d378-6d0c-45d2-a4f6-7c8d95cbd0d1",
        "executionInfo": {
          "status": "ok",
          "timestamp": 1527359238574,
          "user_tz": -330,
          "elapsed": 939,
          "user": {
            "displayName": "Heet Sankesara",
            "photoUrl": "//lh5.googleusercontent.com/-mO3PS3oBtRQ/AAAAAAAAAAI/AAAAAAAAADs/_ic_rsddWU4/s50-c-k-no/photo.jpg",
            "userId": "112240562069909648160"
          }
        }
      },
      "cell_type": "code",
      "source": [
        "df[2].head()"
      ],
      "execution_count": 57,
      "outputs": [
        {
          "output_type": "execute_result",
          "data": {
            "text/html": [
              "<div>\n",
              "<style scoped>\n",
              "    .dataframe tbody tr th:only-of-type {\n",
              "        vertical-align: middle;\n",
              "    }\n",
              "\n",
              "    .dataframe tbody tr th {\n",
              "        vertical-align: top;\n",
              "    }\n",
              "\n",
              "    .dataframe thead th {\n",
              "        text-align: right;\n",
              "    }\n",
              "</style>\n",
              "<table border=\"1\" class=\"dataframe\">\n",
              "  <thead>\n",
              "    <tr style=\"text-align: right;\">\n",
              "      <th></th>\n",
              "      <th>abstract</th>\n",
              "      <th>article_title</th>\n",
              "      <th>author_str</th>\n",
              "      <th>pmid</th>\n",
              "      <th>pub_date</th>\n",
              "      <th>set</th>\n",
              "      <th>full_Text</th>\n",
              "      <th>ref_list</th>\n",
              "    </tr>\n",
              "  </thead>\n",
              "  <tbody>\n",
              "    <tr>\n",
              "      <th>0</th>\n",
              "      <td>The neuropeptide calcitonin gene-related pepti...</td>\n",
              "      <td>Calcitonin Gene-Related Peptide (CGRP) and Mig...</td>\n",
              "      <td>Paul L. Durham</td>\n",
              "      <td>16927957</td>\n",
              "      <td>2011-07-06</td>\n",
              "      <td>2</td>\n",
              "      <td>NaN</td>\n",
              "      <td>[16277606, 3488550]</td>\n",
              "    </tr>\n",
              "    <tr>\n",
              "      <th>1</th>\n",
              "      <td>Expression of the neuropeptide calcitonin gene...</td>\n",
              "      <td>Tumor necrosis factor-α stimulation of calcito...</td>\n",
              "      <td>Elizabeth J. Bowen, Thomas W. Schmidt, Christi...</td>\n",
              "      <td>16277606</td>\n",
              "      <td>2006-06-13</td>\n",
              "      <td>2</td>\n",
              "      <td>NaN</td>\n",
              "      <td>[8019746, 11532965]</td>\n",
              "    </tr>\n",
              "    <tr>\n",
              "      <th>2</th>\n",
              "      <td>Distribution studies disclosed that all major ...</td>\n",
              "      <td>Calcitonin gene-related peptide: functional ro...</td>\n",
              "      <td>J McCulloch, R Uddman, T A Kingman, L Edvinsson</td>\n",
              "      <td>3488550</td>\n",
              "      <td>1986-08-01</td>\n",
              "      <td>2</td>\n",
              "      <td>NaN</td>\n",
              "      <td>[14392240, 6172582, 6132387]</td>\n",
              "    </tr>\n",
              "    <tr>\n",
              "      <th>3</th>\n",
              "      <td>1. This study examined the effect of interleuk...</td>\n",
              "      <td>Interleukin-1 beta enhances capsaicin-induced ...</td>\n",
              "      <td>M. K. Herbert, P. Holzer</td>\n",
              "      <td>8019746</td>\n",
              "      <td>1994-03-01</td>\n",
              "      <td>2</td>\n",
              "      <td>NaN</td>\n",
              "      <td>[1797334]</td>\n",
              "    </tr>\n",
              "    <tr>\n",
              "      <th>4</th>\n",
              "      <td>The stress-activated signalling cascade leadin...</td>\n",
              "      <td>The Usf-1 transcription factor is a novel targ...</td>\n",
              "      <td>Marie-Dominique Galibert, Suzanne Carreira, Co...</td>\n",
              "      <td>11532965</td>\n",
              "      <td>2001-09-03</td>\n",
              "      <td>2</td>\n",
              "      <td>NaN</td>\n",
              "      <td>[7969144, 10673502, 9356439, 9447965, 9819381,...</td>\n",
              "    </tr>\n",
              "  </tbody>\n",
              "</table>\n",
              "</div>"
            ],
            "text/plain": [
              "                                            abstract  \\\n",
              "0  The neuropeptide calcitonin gene-related pepti...   \n",
              "1  Expression of the neuropeptide calcitonin gene...   \n",
              "2  Distribution studies disclosed that all major ...   \n",
              "3  1. This study examined the effect of interleuk...   \n",
              "4  The stress-activated signalling cascade leadin...   \n",
              "\n",
              "                                       article_title  \\\n",
              "0  Calcitonin Gene-Related Peptide (CGRP) and Mig...   \n",
              "1  Tumor necrosis factor-α stimulation of calcito...   \n",
              "2  Calcitonin gene-related peptide: functional ro...   \n",
              "3  Interleukin-1 beta enhances capsaicin-induced ...   \n",
              "4  The Usf-1 transcription factor is a novel targ...   \n",
              "\n",
              "                                          author_str      pmid   pub_date  \\\n",
              "0                                     Paul L. Durham  16927957 2011-07-06   \n",
              "1  Elizabeth J. Bowen, Thomas W. Schmidt, Christi...  16277606 2006-06-13   \n",
              "2    J McCulloch, R Uddman, T A Kingman, L Edvinsson   3488550 1986-08-01   \n",
              "3                           M. K. Herbert, P. Holzer   8019746 1994-03-01   \n",
              "4  Marie-Dominique Galibert, Suzanne Carreira, Co...  11532965 2001-09-03   \n",
              "\n",
              "   set full_Text                                           ref_list  \n",
              "0    2       NaN                                [16277606, 3488550]  \n",
              "1    2       NaN                                [8019746, 11532965]  \n",
              "2    2       NaN                       [14392240, 6172582, 6132387]  \n",
              "3    2       NaN                                          [1797334]  \n",
              "4    2       NaN  [7969144, 10673502, 9356439, 9447965, 9819381,...  "
            ]
          },
          "metadata": {
            "tags": []
          },
          "execution_count": 57
        }
      ]
    },
    {
      "metadata": {
        "id": "ai7ky7248qwx",
        "colab_type": "code",
        "colab": {
          "autoexec": {
            "startup": false,
            "wait_interval": 0
          }
        }
      },
      "cell_type": "code",
      "source": [
        "pmid2 = pd.DataFrame(df[2][['pmid', 'pub_date']])"
      ],
      "execution_count": 0,
      "outputs": []
    },
    {
      "metadata": {
        "id": "8k_omhVb8qw0",
        "colab_type": "code",
        "colab": {
          "autoexec": {
            "startup": false,
            "wait_interval": 0
          }
        }
      },
      "cell_type": "code",
      "source": [
        "pmid2['key'] = 1"
      ],
      "execution_count": 0,
      "outputs": []
    },
    {
      "metadata": {
        "id": "vw281ahI8qw4",
        "colab_type": "code",
        "colab": {
          "autoexec": {
            "startup": false,
            "wait_interval": 0
          }
        }
      },
      "cell_type": "code",
      "source": [
        "pmid2 = pd.merge(pmid2, pmid2, on='key')"
      ],
      "execution_count": 0,
      "outputs": []
    },
    {
      "metadata": {
        "id": "MbnBuIysEe61",
        "colab_type": "code",
        "colab": {
          "autoexec": {
            "startup": false,
            "wait_interval": 0
          }
        }
      },
      "cell_type": "code",
      "source": [
        "pmid2 = pmid2.drop(pmid2[pmid2.pub_date_x <= pmid2.pub_date_y].index)"
      ],
      "execution_count": 0,
      "outputs": []
    },
    {
      "metadata": {
        "id": "vg0IId0O8qxO",
        "colab_type": "code",
        "colab": {
          "autoexec": {
            "startup": false,
            "wait_interval": 0
          },
          "base_uri": "https://localhost:8080/",
          "height": 206
        },
        "outputId": "9839c9eb-9ce0-44ed-ee86-f113289488e1",
        "executionInfo": {
          "status": "ok",
          "timestamp": 1527359245763,
          "user_tz": -330,
          "elapsed": 1111,
          "user": {
            "displayName": "Heet Sankesara",
            "photoUrl": "//lh5.googleusercontent.com/-mO3PS3oBtRQ/AAAAAAAAAAI/AAAAAAAAADs/_ic_rsddWU4/s50-c-k-no/photo.jpg",
            "userId": "112240562069909648160"
          }
        }
      },
      "cell_type": "code",
      "source": [
        "pmid2.head()"
      ],
      "execution_count": 62,
      "outputs": [
        {
          "output_type": "execute_result",
          "data": {
            "text/html": [
              "<div>\n",
              "<style scoped>\n",
              "    .dataframe tbody tr th:only-of-type {\n",
              "        vertical-align: middle;\n",
              "    }\n",
              "\n",
              "    .dataframe tbody tr th {\n",
              "        vertical-align: top;\n",
              "    }\n",
              "\n",
              "    .dataframe thead th {\n",
              "        text-align: right;\n",
              "    }\n",
              "</style>\n",
              "<table border=\"1\" class=\"dataframe\">\n",
              "  <thead>\n",
              "    <tr style=\"text-align: right;\">\n",
              "      <th></th>\n",
              "      <th>pmid_x</th>\n",
              "      <th>pub_date_x</th>\n",
              "      <th>key</th>\n",
              "      <th>pmid_y</th>\n",
              "      <th>pub_date_y</th>\n",
              "    </tr>\n",
              "  </thead>\n",
              "  <tbody>\n",
              "    <tr>\n",
              "      <th>1</th>\n",
              "      <td>16927957</td>\n",
              "      <td>2011-07-06</td>\n",
              "      <td>1</td>\n",
              "      <td>16277606</td>\n",
              "      <td>2006-06-13</td>\n",
              "    </tr>\n",
              "    <tr>\n",
              "      <th>2</th>\n",
              "      <td>16927957</td>\n",
              "      <td>2011-07-06</td>\n",
              "      <td>1</td>\n",
              "      <td>3488550</td>\n",
              "      <td>1986-08-01</td>\n",
              "    </tr>\n",
              "    <tr>\n",
              "      <th>3</th>\n",
              "      <td>16927957</td>\n",
              "      <td>2011-07-06</td>\n",
              "      <td>1</td>\n",
              "      <td>8019746</td>\n",
              "      <td>1994-03-01</td>\n",
              "    </tr>\n",
              "    <tr>\n",
              "      <th>4</th>\n",
              "      <td>16927957</td>\n",
              "      <td>2011-07-06</td>\n",
              "      <td>1</td>\n",
              "      <td>11532965</td>\n",
              "      <td>2001-09-03</td>\n",
              "    </tr>\n",
              "    <tr>\n",
              "      <th>5</th>\n",
              "      <td>16927957</td>\n",
              "      <td>2011-07-06</td>\n",
              "      <td>1</td>\n",
              "      <td>8170966</td>\n",
              "      <td>1994-04-26</td>\n",
              "    </tr>\n",
              "  </tbody>\n",
              "</table>\n",
              "</div>"
            ],
            "text/plain": [
              "     pmid_x pub_date_x  key    pmid_y pub_date_y\n",
              "1  16927957 2011-07-06    1  16277606 2006-06-13\n",
              "2  16927957 2011-07-06    1   3488550 1986-08-01\n",
              "3  16927957 2011-07-06    1   8019746 1994-03-01\n",
              "4  16927957 2011-07-06    1  11532965 2001-09-03\n",
              "5  16927957 2011-07-06    1   8170966 1994-04-26"
            ]
          },
          "metadata": {
            "tags": []
          },
          "execution_count": 62
        }
      ]
    },
    {
      "metadata": {
        "id": "8N4c7p1i8qxT",
        "colab_type": "code",
        "colab": {
          "autoexec": {
            "startup": false,
            "wait_interval": 0
          },
          "base_uri": "https://localhost:8080/",
          "height": 196
        },
        "outputId": "c14487d4-2d63-4181-ad21-387b1a438a1a",
        "executionInfo": {
          "status": "ok",
          "timestamp": 1527359247305,
          "user_tz": -330,
          "elapsed": 1103,
          "user": {
            "displayName": "Heet Sankesara",
            "photoUrl": "//lh5.googleusercontent.com/-mO3PS3oBtRQ/AAAAAAAAAAI/AAAAAAAAADs/_ic_rsddWU4/s50-c-k-no/photo.jpg",
            "userId": "112240562069909648160"
          }
        }
      },
      "cell_type": "code",
      "source": [
        "pmid2.info()"
      ],
      "execution_count": 63,
      "outputs": [
        {
          "output_type": "stream",
          "text": [
            "<class 'pandas.core.frame.DataFrame'>\n",
            "Int64Index: 14823 entries, 1 to 29922\n",
            "Data columns (total 5 columns):\n",
            "pmid_x        14823 non-null int64\n",
            "pub_date_x    14823 non-null datetime64[ns]\n",
            "key           14823 non-null int64\n",
            "pmid_y        14823 non-null int64\n",
            "pub_date_y    14823 non-null datetime64[ns]\n",
            "dtypes: datetime64[ns](2), int64(3)\n",
            "memory usage: 694.8 KB\n"
          ],
          "name": "stdout"
        }
      ]
    },
    {
      "metadata": {
        "id": "EoXBVBfx8qxi",
        "colab_type": "code",
        "colab": {
          "autoexec": {
            "startup": false,
            "wait_interval": 0
          }
        }
      },
      "cell_type": "code",
      "source": [
        "pmid2['corr'] = np.nan"
      ],
      "execution_count": 0,
      "outputs": []
    },
    {
      "metadata": {
        "id": "jnl2Crc68qxn",
        "colab_type": "code",
        "colab": {
          "autoexec": {
            "startup": false,
            "wait_interval": 0
          }
        }
      },
      "cell_type": "code",
      "source": [
        "m = pmid2.shape[0]"
      ],
      "execution_count": 0,
      "outputs": []
    },
    {
      "metadata": {
        "id": "xlp9wj8AGKbo",
        "colab_type": "code",
        "colab": {
          "autoexec": {
            "startup": false,
            "wait_interval": 0
          }
        }
      },
      "cell_type": "code",
      "source": [
        "from scipy import sparse"
      ],
      "execution_count": 0,
      "outputs": []
    },
    {
      "metadata": {
        "id": "1vp2Pysn8qxy",
        "colab_type": "code",
        "colab": {
          "autoexec": {
            "startup": false,
            "wait_interval": 0
          }
        }
      },
      "cell_type": "code",
      "source": [
        "for i in range(m):\n",
        "    pmid2.iat[i, 4] = sparse_corrcoef(vec_ab[2][indx[2][pmid2['pmid_x'].iloc[i]]], vec_ab[2][indx[2][pmid2['pmid_y'].iloc[i]]])[0,1]"
      ],
      "execution_count": 0,
      "outputs": []
    },
    {
      "metadata": {
        "id": "akF17SKy8qyL",
        "colab_type": "code",
        "colab": {
          "autoexec": {
            "startup": false,
            "wait_interval": 0
          }
        }
      },
      "cell_type": "code",
      "source": [
        "pmid2.drop(['pub_date_x', 'pub_date_y'], axis = 1, inplace=True)"
      ],
      "execution_count": 0,
      "outputs": []
    },
    {
      "metadata": {
        "id": "DPgFqKouAWfj",
        "colab_type": "code",
        "colab": {
          "autoexec": {
            "startup": false,
            "wait_interval": 0
          }
        }
      },
      "cell_type": "code",
      "source": [
        "p21 = pmid2[pmid2['pmid_x'] == 11532965]"
      ],
      "execution_count": 0,
      "outputs": []
    },
    {
      "metadata": {
        "id": "QrzaBtuwAiLL",
        "colab_type": "code",
        "colab": {
          "autoexec": {
            "startup": false,
            "wait_interval": 0
          },
          "base_uri": "https://localhost:8080/",
          "height": 175
        },
        "outputId": "cd061e33-11dd-44e7-b90f-92ab96c27479",
        "executionInfo": {
          "status": "ok",
          "timestamp": 1527339091542,
          "user_tz": -330,
          "elapsed": 1079,
          "user": {
            "displayName": "Heet Sankesara",
            "photoUrl": "//lh5.googleusercontent.com/-mO3PS3oBtRQ/AAAAAAAAAAI/AAAAAAAAADs/_ic_rsddWU4/s50-c-k-no/photo.jpg",
            "userId": "112240562069909648160"
          }
        }
      },
      "cell_type": "code",
      "source": [
        "p21[p21['corr'] > p21['corr'].quantile(0.98)].sort_values(by = 'corr', ascending = False)"
      ],
      "execution_count": 81,
      "outputs": [
        {
          "output_type": "execute_result",
          "data": {
            "text/html": [
              "<div>\n",
              "<style scoped>\n",
              "    .dataframe tbody tr th:only-of-type {\n",
              "        vertical-align: middle;\n",
              "    }\n",
              "\n",
              "    .dataframe tbody tr th {\n",
              "        vertical-align: top;\n",
              "    }\n",
              "\n",
              "    .dataframe thead th {\n",
              "        text-align: right;\n",
              "    }\n",
              "</style>\n",
              "<table border=\"1\" class=\"dataframe\">\n",
              "  <thead>\n",
              "    <tr style=\"text-align: right;\">\n",
              "      <th></th>\n",
              "      <th>pmid_x</th>\n",
              "      <th>pmid_y</th>\n",
              "      <th>corr</th>\n",
              "    </tr>\n",
              "  </thead>\n",
              "  <tbody>\n",
              "    <tr>\n",
              "      <th>726</th>\n",
              "      <td>11532965</td>\n",
              "      <td>7969144</td>\n",
              "      <td>0.749797</td>\n",
              "    </tr>\n",
              "    <tr>\n",
              "      <th>730</th>\n",
              "      <td>11532965</td>\n",
              "      <td>9819381</td>\n",
              "      <td>0.708541</td>\n",
              "    </tr>\n",
              "    <tr>\n",
              "      <th>806</th>\n",
              "      <td>11532965</td>\n",
              "      <td>8707852</td>\n",
              "      <td>0.704171</td>\n",
              "    </tr>\n",
              "    <tr>\n",
              "      <th>779</th>\n",
              "      <td>11532965</td>\n",
              "      <td>667498</td>\n",
              "      <td>0.688607</td>\n",
              "    </tr>\n",
              "  </tbody>\n",
              "</table>\n",
              "</div>"
            ],
            "text/plain": [
              "       pmid_x   pmid_y      corr\n",
              "726  11532965  7969144  0.749797\n",
              "730  11532965  9819381  0.708541\n",
              "806  11532965  8707852  0.704171\n",
              "779  11532965   667498  0.688607"
            ]
          },
          "metadata": {
            "tags": []
          },
          "execution_count": 81
        }
      ]
    },
    {
      "metadata": {
        "id": "9IA2jaybBmgg",
        "colab_type": "code",
        "colab": {
          "autoexec": {
            "startup": false,
            "wait_interval": 0
          }
        }
      },
      "cell_type": "code",
      "source": [
        ""
      ],
      "execution_count": 0,
      "outputs": []
    },
    {
      "metadata": {
        "id": "DMPGfSBqH4D3",
        "colab_type": "text"
      },
      "cell_type": "markdown",
      "source": [
        "## Submission 002"
      ]
    },
    {
      "metadata": {
        "id": "8_Ly_zYAD6jA",
        "colab_type": "code",
        "colab": {
          "autoexec": {
            "startup": false,
            "wait_interval": 0
          },
          "base_uri": "https://localhost:8080/",
          "height": 310
        },
        "outputId": "32417650-e950-41c0-deeb-a951193067b9",
        "executionInfo": {
          "status": "ok",
          "timestamp": 1527359250034,
          "user_tz": -330,
          "elapsed": 953,
          "user": {
            "displayName": "Heet Sankesara",
            "photoUrl": "//lh5.googleusercontent.com/-mO3PS3oBtRQ/AAAAAAAAAAI/AAAAAAAAADs/_ic_rsddWU4/s50-c-k-no/photo.jpg",
            "userId": "112240562069909648160"
          }
        }
      },
      "cell_type": "code",
      "source": [
        "df_test_data.head()"
      ],
      "execution_count": 65,
      "outputs": [
        {
          "output_type": "execute_result",
          "data": {
            "text/html": [
              "<div>\n",
              "<style scoped>\n",
              "    .dataframe tbody tr th:only-of-type {\n",
              "        vertical-align: middle;\n",
              "    }\n",
              "\n",
              "    .dataframe tbody tr th {\n",
              "        vertical-align: top;\n",
              "    }\n",
              "\n",
              "    .dataframe thead th {\n",
              "        text-align: right;\n",
              "    }\n",
              "</style>\n",
              "<table border=\"1\" class=\"dataframe\">\n",
              "  <thead>\n",
              "    <tr style=\"text-align: right;\">\n",
              "      <th></th>\n",
              "      <th>abstract</th>\n",
              "      <th>article_title</th>\n",
              "      <th>author_str</th>\n",
              "      <th>pmid</th>\n",
              "      <th>pub_date</th>\n",
              "      <th>set</th>\n",
              "      <th>full_Text</th>\n",
              "    </tr>\n",
              "  </thead>\n",
              "  <tbody>\n",
              "    <tr>\n",
              "      <th>0</th>\n",
              "      <td>Cell lines selected in multiple steps for incr...</td>\n",
              "      <td>The gene for a novel protein, a member of the ...</td>\n",
              "      <td>M M Chaudhuri, P N Tonin, W H Lewis, P R Srini...</td>\n",
              "      <td>1311171</td>\n",
              "      <td>1992-02-01</td>\n",
              "      <td>17</td>\n",
              "      <td>NaN</td>\n",
              "    </tr>\n",
              "    <tr>\n",
              "      <th>1</th>\n",
              "      <td>Prolyl 4-hydroxylase (EC 1.14.11.2) is an esse...</td>\n",
              "      <td>Inhibition of prolyl 4-hydroxylase by hydroxya...</td>\n",
              "      <td>C J Cunliffe, T J Franklin</td>\n",
              "      <td>3028370</td>\n",
              "      <td>1986-10-15</td>\n",
              "      <td>17</td>\n",
              "      <td>NaN</td>\n",
              "    </tr>\n",
              "    <tr>\n",
              "      <th>2</th>\n",
              "      <td>From the structure-activity relationships of k...</td>\n",
              "      <td>Time-dependent inactivation of chick-embryo pr...</td>\n",
              "      <td>V Gunzler, H M Hanauske-Abel, R Myllyla, J Moh...</td>\n",
              "      <td>3036081</td>\n",
              "      <td>1987-02-15</td>\n",
              "      <td>17</td>\n",
              "      <td>NaN</td>\n",
              "    </tr>\n",
              "    <tr>\n",
              "      <th>3</th>\n",
              "      <td>The anthracyclines doxorubicin and daunorubici...</td>\n",
              "      <td>Syncatalytic inactivation of prolyl 4-hydroxyl...</td>\n",
              "      <td>V Gunzler, H M Hanauske-Abel, R Myllyla, D D K...</td>\n",
              "      <td>2840891</td>\n",
              "      <td>1988-04-15</td>\n",
              "      <td>17</td>\n",
              "      <td>NaN</td>\n",
              "    </tr>\n",
              "    <tr>\n",
              "      <th>4</th>\n",
              "      <td>The levels of lysine hydroxylase protein and t...</td>\n",
              "      <td>Minoxidil specifically decreases the expressio...</td>\n",
              "      <td>T Hautala, J Heikkinen, K I Kivirikko, R Myllyla</td>\n",
              "      <td>1314568</td>\n",
              "      <td>1992-04-01</td>\n",
              "      <td>17</td>\n",
              "      <td>NaN</td>\n",
              "    </tr>\n",
              "  </tbody>\n",
              "</table>\n",
              "</div>"
            ],
            "text/plain": [
              "                                            abstract  \\\n",
              "0  Cell lines selected in multiple steps for incr...   \n",
              "1  Prolyl 4-hydroxylase (EC 1.14.11.2) is an esse...   \n",
              "2  From the structure-activity relationships of k...   \n",
              "3  The anthracyclines doxorubicin and daunorubici...   \n",
              "4  The levels of lysine hydroxylase protein and t...   \n",
              "\n",
              "                                       article_title  \\\n",
              "0  The gene for a novel protein, a member of the ...   \n",
              "1  Inhibition of prolyl 4-hydroxylase by hydroxya...   \n",
              "2  Time-dependent inactivation of chick-embryo pr...   \n",
              "3  Syncatalytic inactivation of prolyl 4-hydroxyl...   \n",
              "4  Minoxidil specifically decreases the expressio...   \n",
              "\n",
              "                                          author_str     pmid    pub_date  \\\n",
              "0  M M Chaudhuri, P N Tonin, W H Lewis, P R Srini...  1311171  1992-02-01   \n",
              "1                         C J Cunliffe, T J Franklin  3028370  1986-10-15   \n",
              "2  V Gunzler, H M Hanauske-Abel, R Myllyla, J Moh...  3036081  1987-02-15   \n",
              "3  V Gunzler, H M Hanauske-Abel, R Myllyla, D D K...  2840891  1988-04-15   \n",
              "4   T Hautala, J Heikkinen, K I Kivirikko, R Myllyla  1314568  1992-04-01   \n",
              "\n",
              "   set full_Text  \n",
              "0   17       NaN  \n",
              "1   17       NaN  \n",
              "2   17       NaN  \n",
              "3   17       NaN  \n",
              "4   17       NaN  "
            ]
          },
          "metadata": {
            "tags": []
          },
          "execution_count": 65
        }
      ]
    },
    {
      "metadata": {
        "id": "tBPv19F0vH9B",
        "colab_type": "code",
        "colab": {
          "autoexec": {
            "startup": false,
            "wait_interval": 0
          }
        }
      },
      "cell_type": "code",
      "source": [
        "import nltk"
      ],
      "execution_count": 0,
      "outputs": []
    },
    {
      "metadata": {
        "id": "BAMIGaLVvH2o",
        "colab_type": "code",
        "colab": {
          "autoexec": {
            "startup": false,
            "wait_interval": 0
          }
        }
      },
      "cell_type": "code",
      "source": [
        "df_test_data['abstract'] = df_test_data['abstract'].apply(lambda x: \" \".join(x.lower() for x in x.split()))"
      ],
      "execution_count": 0,
      "outputs": []
    },
    {
      "metadata": {
        "id": "1tGdg7bEvHvq",
        "colab_type": "code",
        "colab": {
          "autoexec": {
            "startup": false,
            "wait_interval": 0
          }
        }
      },
      "cell_type": "code",
      "source": [
        "df_test_data['abstract'] = df_test_data['abstract'].str.replace('[^\\w\\s]','')"
      ],
      "execution_count": 0,
      "outputs": []
    },
    {
      "metadata": {
        "id": "8dNiecuvvHoW",
        "colab_type": "code",
        "colab": {
          "autoexec": {
            "startup": false,
            "wait_interval": 0
          },
          "base_uri": "https://localhost:8080/",
          "height": 71
        },
        "outputId": "77970f73-bd78-4dc2-c6ed-36fa7f1d96b8",
        "executionInfo": {
          "status": "ok",
          "timestamp": 1527360019260,
          "user_tz": -330,
          "elapsed": 1348,
          "user": {
            "displayName": "Heet Sankesara",
            "photoUrl": "//lh5.googleusercontent.com/-mO3PS3oBtRQ/AAAAAAAAAAI/AAAAAAAAADs/_ic_rsddWU4/s50-c-k-no/photo.jpg",
            "userId": "112240562069909648160"
          }
        }
      },
      "cell_type": "code",
      "source": [
        "nltk.download('stopwords')"
      ],
      "execution_count": 75,
      "outputs": [
        {
          "output_type": "stream",
          "text": [
            "[nltk_data] Downloading package stopwords to /content/nltk_data...\n",
            "[nltk_data]   Unzipping corpora/stopwords.zip.\n"
          ],
          "name": "stdout"
        },
        {
          "output_type": "execute_result",
          "data": {
            "text/plain": [
              "True"
            ]
          },
          "metadata": {
            "tags": []
          },
          "execution_count": 75
        }
      ]
    },
    {
      "metadata": {
        "id": "Qbb2rTWIvHhw",
        "colab_type": "code",
        "colab": {
          "autoexec": {
            "startup": false,
            "wait_interval": 0
          }
        }
      },
      "cell_type": "code",
      "source": [
        "from nltk.corpus import stopwords"
      ],
      "execution_count": 0,
      "outputs": []
    },
    {
      "metadata": {
        "id": "o1EW6zeDvHYC",
        "colab_type": "code",
        "colab": {
          "autoexec": {
            "startup": false,
            "wait_interval": 0
          }
        }
      },
      "cell_type": "code",
      "source": [
        "stop = stopwords.words('english')"
      ],
      "execution_count": 0,
      "outputs": []
    },
    {
      "metadata": {
        "id": "xZlS1z-Xv6ZO",
        "colab_type": "code",
        "colab": {
          "autoexec": {
            "startup": false,
            "wait_interval": 0
          }
        }
      },
      "cell_type": "code",
      "source": [
        "df_test_data['abstract']  = df_test_data['abstract'].apply(lambda x: \" \".join(x for x in x.split() if x not in stop))"
      ],
      "execution_count": 0,
      "outputs": []
    },
    {
      "metadata": {
        "id": "W7nPCe_tv6ST",
        "colab_type": "code",
        "colab": {
          "autoexec": {
            "startup": false,
            "wait_interval": 0
          }
        }
      },
      "cell_type": "code",
      "source": [
        "freq = pd.Series(' '.join(df_test_data['abstract']).split()).value_counts()[:10]"
      ],
      "execution_count": 0,
      "outputs": []
    },
    {
      "metadata": {
        "id": "gdAjbmyIv6MB",
        "colab_type": "code",
        "colab": {
          "autoexec": {
            "startup": false,
            "wait_interval": 0
          }
        }
      },
      "cell_type": "code",
      "source": [
        "freq = list(freq.index)"
      ],
      "execution_count": 0,
      "outputs": []
    },
    {
      "metadata": {
        "id": "WyboOmnGv6FP",
        "colab_type": "code",
        "colab": {
          "autoexec": {
            "startup": false,
            "wait_interval": 0
          }
        }
      },
      "cell_type": "code",
      "source": [
        "df_test_data['abstract'] = df_test_data['abstract'].apply(lambda x: \" \".join(x for x in x.split() if x not in freq))"
      ],
      "execution_count": 0,
      "outputs": []
    },
    {
      "metadata": {
        "id": "BJQ0HmARx_8X",
        "colab_type": "code",
        "colab": {
          "autoexec": {
            "startup": false,
            "wait_interval": 0
          }
        }
      },
      "cell_type": "code",
      "source": [
        "freq = pd.Series(' '.join(df_test_data['abstract'] ).split()).value_counts()[-10:]"
      ],
      "execution_count": 0,
      "outputs": []
    },
    {
      "metadata": {
        "id": "davTJpicyANQ",
        "colab_type": "code",
        "colab": {
          "autoexec": {
            "startup": false,
            "wait_interval": 0
          }
        }
      },
      "cell_type": "code",
      "source": [
        "freq = list(freq.index)"
      ],
      "execution_count": 0,
      "outputs": []
    },
    {
      "metadata": {
        "id": "ZL5MJO_wx_y_",
        "colab_type": "code",
        "colab": {
          "autoexec": {
            "startup": false,
            "wait_interval": 0
          }
        }
      },
      "cell_type": "code",
      "source": [
        "df_test_data['abstract'] = df_test_data['abstract'].apply(lambda x: \" \".join(x for x in x.split() if x not in freq))"
      ],
      "execution_count": 0,
      "outputs": []
    },
    {
      "metadata": {
        "id": "oE8Bdx62wsnX",
        "colab_type": "code",
        "colab": {
          "autoexec": {
            "startup": false,
            "wait_interval": 0
          },
          "base_uri": "https://localhost:8080/",
          "height": 162
        },
        "outputId": "00b1b297-d395-4325-c6e0-e60c4ba208c0",
        "executionInfo": {
          "status": "ok",
          "timestamp": 1527360441430,
          "user_tz": -330,
          "elapsed": 3456,
          "user": {
            "displayName": "Heet Sankesara",
            "photoUrl": "//lh5.googleusercontent.com/-mO3PS3oBtRQ/AAAAAAAAAAI/AAAAAAAAADs/_ic_rsddWU4/s50-c-k-no/photo.jpg",
            "userId": "112240562069909648160"
          }
        }
      },
      "cell_type": "code",
      "source": [
        "!pip3 install textblob"
      ],
      "execution_count": 94,
      "outputs": [
        {
          "output_type": "stream",
          "text": [
            "Collecting textblob\n",
            "\u001b[?25l  Downloading https://files.pythonhosted.org/packages/11/18/7f55c8be6d68ddc4036ffda5382ca51e23a1075987f708b9123712091af1/textblob-0.15.1-py2.py3-none-any.whl (631kB)\n",
            "\u001b[K    100% |████████████████████████████████| 634kB 5.0MB/s \n",
            "\u001b[?25hRequirement already satisfied: nltk>=3.1 in /usr/local/lib/python3.6/dist-packages (from textblob) (3.2.5)\n",
            "Requirement already satisfied: six in /usr/local/lib/python3.6/dist-packages (from nltk>=3.1->textblob) (1.11.0)\n",
            "Installing collected packages: textblob\n",
            "Successfully installed textblob-0.15.1\n"
          ],
          "name": "stdout"
        }
      ]
    },
    {
      "metadata": {
        "id": "_O8KhJpkwsgT",
        "colab_type": "code",
        "colab": {
          "autoexec": {
            "startup": false,
            "wait_interval": 0
          }
        }
      },
      "cell_type": "code",
      "source": [
        "from textblob import Word"
      ],
      "execution_count": 0,
      "outputs": []
    },
    {
      "metadata": {
        "id": "jbd7ZcquwsYX",
        "colab_type": "code",
        "colab": {
          "autoexec": {
            "startup": false,
            "wait_interval": 0
          }
        }
      },
      "cell_type": "code",
      "source": [
        "df_test_data['abstract'] = df_test_data['abstract'].apply(lambda x: \" \".join([Word(word).lemmatize() for word in x.split()]))"
      ],
      "execution_count": 0,
      "outputs": []
    },
    {
      "metadata": {
        "id": "BHIyYA8swsOj",
        "colab_type": "code",
        "colab": {
          "autoexec": {
            "startup": false,
            "wait_interval": 0
          }
        }
      },
      "cell_type": "code",
      "source": [
        ""
      ],
      "execution_count": 0,
      "outputs": []
    },
    {
      "metadata": {
        "id": "lPXoQVjt7oeX",
        "colab_type": "code",
        "colab": {
          "autoexec": {
            "startup": false,
            "wait_interval": 0
          }
        }
      },
      "cell_type": "code",
      "source": [
        "df_test_data['article_title'] = df_test_data['article_title'].apply(lambda x: \" \".join(x.lower() for x in x.split()))"
      ],
      "execution_count": 0,
      "outputs": []
    },
    {
      "metadata": {
        "id": "bFf4cfd77oej",
        "colab_type": "code",
        "colab": {
          "autoexec": {
            "startup": false,
            "wait_interval": 0
          }
        }
      },
      "cell_type": "code",
      "source": [
        "df_test_data['article_title'] = df_test_data['article_title'].str.replace('[^\\w\\s]','')"
      ],
      "execution_count": 0,
      "outputs": []
    },
    {
      "metadata": {
        "id": "8_N1gGl_7oet",
        "colab_type": "code",
        "colab": {
          "autoexec": {
            "startup": false,
            "wait_interval": 0
          }
        }
      },
      "cell_type": "code",
      "source": [
        "df_test_data['article_title']  = df_test_data['article_title'].apply(lambda x: \" \".join(x for x in x.split() if x not in stop))"
      ],
      "execution_count": 0,
      "outputs": []
    },
    {
      "metadata": {
        "id": "sIw3-lW97ofL",
        "colab_type": "code",
        "colab": {
          "autoexec": {
            "startup": false,
            "wait_interval": 0
          }
        }
      },
      "cell_type": "code",
      "source": [
        "freq = pd.Series(' '.join(df_test_data['article_title']).split()).value_counts()[:10]"
      ],
      "execution_count": 0,
      "outputs": []
    },
    {
      "metadata": {
        "id": "UANTUHOk7ofa",
        "colab_type": "code",
        "colab": {
          "autoexec": {
            "startup": false,
            "wait_interval": 0
          }
        }
      },
      "cell_type": "code",
      "source": [
        "freq = list(freq.index)"
      ],
      "execution_count": 0,
      "outputs": []
    },
    {
      "metadata": {
        "id": "K-CNcY-i7ofr",
        "colab_type": "code",
        "colab": {
          "autoexec": {
            "startup": false,
            "wait_interval": 0
          }
        }
      },
      "cell_type": "code",
      "source": [
        "df_test_data['article_title'] = df_test_data['article_title'].apply(lambda x: \" \".join(x for x in x.split() if x not in freq))"
      ],
      "execution_count": 0,
      "outputs": []
    },
    {
      "metadata": {
        "id": "y5M4nD8V7of5",
        "colab_type": "code",
        "colab": {
          "autoexec": {
            "startup": false,
            "wait_interval": 0
          }
        }
      },
      "cell_type": "code",
      "source": [
        "freq = pd.Series(' '.join(df_test_data['article_title'] ).split()).value_counts()[-10:]"
      ],
      "execution_count": 0,
      "outputs": []
    },
    {
      "metadata": {
        "id": "lieVFZxP7ogu",
        "colab_type": "code",
        "colab": {
          "autoexec": {
            "startup": false,
            "wait_interval": 0
          }
        }
      },
      "cell_type": "code",
      "source": [
        "freq = list(freq.index)"
      ],
      "execution_count": 0,
      "outputs": []
    },
    {
      "metadata": {
        "id": "ZzHWjNV57og2",
        "colab_type": "code",
        "colab": {
          "autoexec": {
            "startup": false,
            "wait_interval": 0
          }
        }
      },
      "cell_type": "code",
      "source": [
        "df_test_data['article_title'] = df_test_data['article_title'].apply(lambda x: \" \".join(x for x in x.split() if x not in freq))"
      ],
      "execution_count": 0,
      "outputs": []
    },
    {
      "metadata": {
        "id": "et9vFJPe7ohA",
        "colab_type": "code",
        "colab": {
          "autoexec": {
            "startup": false,
            "wait_interval": 0
          }
        }
      },
      "cell_type": "code",
      "source": [
        "df_test_data['article_title'] = df_test_data['article_title'].apply(lambda x: \" \".join([Word(word).lemmatize() for word in x.split()]))"
      ],
      "execution_count": 0,
      "outputs": []
    },
    {
      "metadata": {
        "id": "DtZgek__7Gxe",
        "colab_type": "code",
        "colab": {
          "autoexec": {
            "startup": false,
            "wait_interval": 0
          },
          "base_uri": "https://localhost:8080/",
          "height": 124
        },
        "outputId": "3d4c4cc4-7a2d-4e83-ab05-d672d9051a8b",
        "executionInfo": {
          "status": "ok",
          "timestamp": 1527363142319,
          "user_tz": -330,
          "elapsed": 1020,
          "user": {
            "displayName": "Heet Sankesara",
            "photoUrl": "//lh5.googleusercontent.com/-mO3PS3oBtRQ/AAAAAAAAAAI/AAAAAAAAADs/_ic_rsddWU4/s50-c-k-no/photo.jpg",
            "userId": "112240562069909648160"
          }
        }
      },
      "cell_type": "code",
      "source": [
        "df_test_data['article_title'].head()"
      ],
      "execution_count": 146,
      "outputs": [
        {
          "output_type": "execute_result",
          "data": {
            "text/plain": [
              "0    gene novel member disulphide isomeraseform pho...\n",
              "1    inhibition prolyl 4hydroxylase hydroxyanthraqu...\n",
              "2    timedependent inactivation chickembryo prolyl ...\n",
              "3    syncatalytic inactivation prolyl 4hydroxylase ...\n",
              "4    minoxidil specifically decrease expression lys...\n",
              "Name: article_title, dtype: object"
            ]
          },
          "metadata": {
            "tags": []
          },
          "execution_count": 146
        }
      ]
    },
    {
      "metadata": {
        "id": "DQVN90kt7Gp5",
        "colab_type": "code",
        "colab": {
          "autoexec": {
            "startup": false,
            "wait_interval": 0
          }
        }
      },
      "cell_type": "code",
      "source": [
        ""
      ],
      "execution_count": 0,
      "outputs": []
    },
    {
      "metadata": {
        "id": "TI2ril6p4OVA",
        "colab_type": "code",
        "colab": {
          "autoexec": {
            "startup": false,
            "wait_interval": 0
          }
        }
      },
      "cell_type": "code",
      "source": [
        "count_vec = CountVectorizer()"
      ],
      "execution_count": 0,
      "outputs": []
    },
    {
      "metadata": {
        "id": "GgfHCoUeH7_G",
        "colab_type": "code",
        "colab": {
          "autoexec": {
            "startup": false,
            "wait_interval": 0
          }
        }
      },
      "cell_type": "code",
      "source": [
        "X_test_count = count_vec.fit_transform(df_test_data['abstract'])"
      ],
      "execution_count": 0,
      "outputs": []
    },
    {
      "metadata": {
        "id": "PexL96g9H_OL",
        "colab_type": "code",
        "colab": {
          "autoexec": {
            "startup": false,
            "wait_interval": 0
          },
          "base_uri": "https://localhost:8080/",
          "height": 35
        },
        "outputId": "1874bcd2-b9e4-4333-99b2-d1927f522a27",
        "executionInfo": {
          "status": "ok",
          "timestamp": 1527363156403,
          "user_tz": -330,
          "elapsed": 980,
          "user": {
            "displayName": "Heet Sankesara",
            "photoUrl": "//lh5.googleusercontent.com/-mO3PS3oBtRQ/AAAAAAAAAAI/AAAAAAAAADs/_ic_rsddWU4/s50-c-k-no/photo.jpg",
            "userId": "112240562069909648160"
          }
        }
      },
      "cell_type": "code",
      "source": [
        "X_test_count.shape"
      ],
      "execution_count": 149,
      "outputs": [
        {
          "output_type": "execute_result",
          "data": {
            "text/plain": [
              "(2034, 19723)"
            ]
          },
          "metadata": {
            "tags": []
          },
          "execution_count": 149
        }
      ]
    },
    {
      "metadata": {
        "id": "BBmNtrCjIjfi",
        "colab_type": "code",
        "colab": {
          "autoexec": {
            "startup": false,
            "wait_interval": 0
          }
        }
      },
      "cell_type": "code",
      "source": [
        " tf_transformer = TfidfTransformer(use_idf=False).fit(X_test_count)"
      ],
      "execution_count": 0,
      "outputs": []
    },
    {
      "metadata": {
        "id": "8TKiNdf9IrFw",
        "colab_type": "code",
        "colab": {
          "autoexec": {
            "startup": false,
            "wait_interval": 0
          }
        }
      },
      "cell_type": "code",
      "source": [
        "X_test_tf = tf_transformer.transform(X_test_count)"
      ],
      "execution_count": 0,
      "outputs": []
    },
    {
      "metadata": {
        "id": "zt3Eey1CIvyG",
        "colab_type": "code",
        "colab": {
          "autoexec": {
            "startup": false,
            "wait_interval": 0
          },
          "base_uri": "https://localhost:8080/",
          "height": 35
        },
        "outputId": "8b78f364-886c-488d-865c-b7ee48580d89",
        "executionInfo": {
          "status": "ok",
          "timestamp": 1527363164677,
          "user_tz": -330,
          "elapsed": 1285,
          "user": {
            "displayName": "Heet Sankesara",
            "photoUrl": "//lh5.googleusercontent.com/-mO3PS3oBtRQ/AAAAAAAAAAI/AAAAAAAAADs/_ic_rsddWU4/s50-c-k-no/photo.jpg",
            "userId": "112240562069909648160"
          }
        }
      },
      "cell_type": "code",
      "source": [
        "X_test_tf.shape"
      ],
      "execution_count": 152,
      "outputs": [
        {
          "output_type": "execute_result",
          "data": {
            "text/plain": [
              "(2034, 19723)"
            ]
          },
          "metadata": {
            "tags": []
          },
          "execution_count": 152
        }
      ]
    },
    {
      "metadata": {
        "id": "XhogFev1nZqa",
        "colab_type": "code",
        "colab": {
          "autoexec": {
            "startup": false,
            "wait_interval": 0
          }
        }
      },
      "cell_type": "code",
      "source": [
        "title_vec = count_vec.fit_transform(df_test_data['article_title'])"
      ],
      "execution_count": 0,
      "outputs": []
    },
    {
      "metadata": {
        "id": "UCysNW89nZiO",
        "colab_type": "code",
        "colab": {
          "autoexec": {
            "startup": false,
            "wait_interval": 0
          }
        }
      },
      "cell_type": "code",
      "source": [
        "tf_transformer = TfidfTransformer(use_idf=False).fit(title_vec)"
      ],
      "execution_count": 0,
      "outputs": []
    },
    {
      "metadata": {
        "id": "uqnX5-BznZZv",
        "colab_type": "code",
        "colab": {
          "autoexec": {
            "startup": false,
            "wait_interval": 0
          }
        }
      },
      "cell_type": "code",
      "source": [
        "title_vec = tf_transformer.transform(title_vec)"
      ],
      "execution_count": 0,
      "outputs": []
    },
    {
      "metadata": {
        "id": "dfkCigu2nZRi",
        "colab_type": "code",
        "colab": {
          "autoexec": {
            "startup": false,
            "wait_interval": 0
          },
          "base_uri": "https://localhost:8080/",
          "height": 35
        },
        "outputId": "8ed8d31d-4e0d-445b-d3b0-3186fed2ff4d",
        "executionInfo": {
          "status": "ok",
          "timestamp": 1527363172652,
          "user_tz": -330,
          "elapsed": 1120,
          "user": {
            "displayName": "Heet Sankesara",
            "photoUrl": "//lh5.googleusercontent.com/-mO3PS3oBtRQ/AAAAAAAAAAI/AAAAAAAAADs/_ic_rsddWU4/s50-c-k-no/photo.jpg",
            "userId": "112240562069909648160"
          }
        }
      },
      "cell_type": "code",
      "source": [
        "title_vec.shape"
      ],
      "execution_count": 156,
      "outputs": [
        {
          "output_type": "execute_result",
          "data": {
            "text/plain": [
              "(2034, 4266)"
            ]
          },
          "metadata": {
            "tags": []
          },
          "execution_count": 156
        }
      ]
    },
    {
      "metadata": {
        "id": "yk1QEaSZnZG8",
        "colab_type": "code",
        "colab": {
          "autoexec": {
            "startup": false,
            "wait_interval": 0
          }
        }
      },
      "cell_type": "code",
      "source": [
        ""
      ],
      "execution_count": 0,
      "outputs": []
    },
    {
      "metadata": {
        "id": "UotlemkAK0fp",
        "colab_type": "code",
        "colab": {
          "autoexec": {
            "startup": false,
            "wait_interval": 0
          }
        }
      },
      "cell_type": "code",
      "source": [
        "sets = df_test_data['set'].unique()"
      ],
      "execution_count": 0,
      "outputs": []
    },
    {
      "metadata": {
        "id": "_8qCFCY_Ixjd",
        "colab_type": "code",
        "colab": {
          "autoexec": {
            "startup": false,
            "wait_interval": 0
          }
        }
      },
      "cell_type": "code",
      "source": [
        "vec_abt = {}\n",
        "vec_tit = {}\n",
        "df_t = {}\n",
        "indx_t= {}"
      ],
      "execution_count": 0,
      "outputs": []
    },
    {
      "metadata": {
        "id": "ApHu4NIqJBW2",
        "colab_type": "code",
        "colab": {
          "autoexec": {
            "startup": false,
            "wait_interval": 0
          }
        }
      },
      "cell_type": "code",
      "source": [
        "for i in sets:\n",
        "    df_t[i] = df_test_data[df_test_data['set'] == i].reset_index()\n",
        "    index = df_test_data[df_test_data['set'] == i].index\n",
        "    m = len(index)\n",
        "    vec_abt[i] = X_test_tf[index[0]]\n",
        "    vec_tit[i] = title_vec[index[0]]\n",
        "    indx_t[i] = {}\n",
        "    indx_t[i][df_t[i]['pmid'].iloc[0]] = 0\n",
        "    for j in range(1, m):\n",
        "        vec_abt[i] = vstack([vec_abt[i], X_test_tf[index[j]]])\n",
        "        vec_tit[i] = vstack([vec_tit[i], title_vec[index[j]]])\n",
        "        indx_t[i][df_t[i]['pmid'].iloc[j]] = j\n",
        "    df_t[i].drop('index', axis = 1, inplace = True)"
      ],
      "execution_count": 0,
      "outputs": []
    },
    {
      "metadata": {
        "id": "eYpfrLiGKoqG",
        "colab_type": "code",
        "colab": {
          "autoexec": {
            "startup": false,
            "wait_interval": 0
          },
          "base_uri": "https://localhost:8080/",
          "height": 35
        },
        "outputId": "fe90754a-7e32-4dad-a33f-f5a89b175e2c",
        "executionInfo": {
          "status": "ok",
          "timestamp": 1527363189936,
          "user_tz": -330,
          "elapsed": 1175,
          "user": {
            "displayName": "Heet Sankesara",
            "photoUrl": "//lh5.googleusercontent.com/-mO3PS3oBtRQ/AAAAAAAAAAI/AAAAAAAAADs/_ic_rsddWU4/s50-c-k-no/photo.jpg",
            "userId": "112240562069909648160"
          }
        }
      },
      "cell_type": "code",
      "source": [
        "sets"
      ],
      "execution_count": 160,
      "outputs": [
        {
          "output_type": "execute_result",
          "data": {
            "text/plain": [
              "array([17, 10,  4,  9, 11,  1, 15,  7, 19])"
            ]
          },
          "metadata": {
            "tags": []
          },
          "execution_count": 160
        }
      ]
    },
    {
      "metadata": {
        "id": "4YCwlOXALpDM",
        "colab_type": "code",
        "colab": {
          "autoexec": {
            "startup": false,
            "wait_interval": 0
          },
          "base_uri": "https://localhost:8080/",
          "height": 310
        },
        "outputId": "64eaf395-18eb-41b1-949d-d2185ab1acf2",
        "executionInfo": {
          "status": "ok",
          "timestamp": 1527341179211,
          "user_tz": -330,
          "elapsed": 1027,
          "user": {
            "displayName": "Heet Sankesara",
            "photoUrl": "//lh5.googleusercontent.com/-mO3PS3oBtRQ/AAAAAAAAAAI/AAAAAAAAADs/_ic_rsddWU4/s50-c-k-no/photo.jpg",
            "userId": "112240562069909648160"
          }
        }
      },
      "cell_type": "code",
      "source": [
        "df_t[17].head()"
      ],
      "execution_count": 136,
      "outputs": [
        {
          "output_type": "execute_result",
          "data": {
            "text/html": [
              "<div>\n",
              "<style scoped>\n",
              "    .dataframe tbody tr th:only-of-type {\n",
              "        vertical-align: middle;\n",
              "    }\n",
              "\n",
              "    .dataframe tbody tr th {\n",
              "        vertical-align: top;\n",
              "    }\n",
              "\n",
              "    .dataframe thead th {\n",
              "        text-align: right;\n",
              "    }\n",
              "</style>\n",
              "<table border=\"1\" class=\"dataframe\">\n",
              "  <thead>\n",
              "    <tr style=\"text-align: right;\">\n",
              "      <th></th>\n",
              "      <th>abstract</th>\n",
              "      <th>article_title</th>\n",
              "      <th>author_str</th>\n",
              "      <th>pmid</th>\n",
              "      <th>pub_date</th>\n",
              "      <th>set</th>\n",
              "      <th>full_Text</th>\n",
              "    </tr>\n",
              "  </thead>\n",
              "  <tbody>\n",
              "    <tr>\n",
              "      <th>0</th>\n",
              "      <td>Cell lines selected in multiple steps for incr...</td>\n",
              "      <td>The gene for a novel protein, a member of the ...</td>\n",
              "      <td>M M Chaudhuri, P N Tonin, W H Lewis, P R Srini...</td>\n",
              "      <td>1311171</td>\n",
              "      <td>1992-02-01</td>\n",
              "      <td>17</td>\n",
              "      <td>NaN</td>\n",
              "    </tr>\n",
              "    <tr>\n",
              "      <th>1</th>\n",
              "      <td>Prolyl 4-hydroxylase (EC 1.14.11.2) is an esse...</td>\n",
              "      <td>Inhibition of prolyl 4-hydroxylase by hydroxya...</td>\n",
              "      <td>C J Cunliffe, T J Franklin</td>\n",
              "      <td>3028370</td>\n",
              "      <td>1986-10-15</td>\n",
              "      <td>17</td>\n",
              "      <td>NaN</td>\n",
              "    </tr>\n",
              "    <tr>\n",
              "      <th>2</th>\n",
              "      <td>From the structure-activity relationships of k...</td>\n",
              "      <td>Time-dependent inactivation of chick-embryo pr...</td>\n",
              "      <td>V Gunzler, H M Hanauske-Abel, R Myllyla, J Moh...</td>\n",
              "      <td>3036081</td>\n",
              "      <td>1987-02-15</td>\n",
              "      <td>17</td>\n",
              "      <td>NaN</td>\n",
              "    </tr>\n",
              "    <tr>\n",
              "      <th>3</th>\n",
              "      <td>The anthracyclines doxorubicin and daunorubici...</td>\n",
              "      <td>Syncatalytic inactivation of prolyl 4-hydroxyl...</td>\n",
              "      <td>V Gunzler, H M Hanauske-Abel, R Myllyla, D D K...</td>\n",
              "      <td>2840891</td>\n",
              "      <td>1988-04-15</td>\n",
              "      <td>17</td>\n",
              "      <td>NaN</td>\n",
              "    </tr>\n",
              "    <tr>\n",
              "      <th>4</th>\n",
              "      <td>The levels of lysine hydroxylase protein and t...</td>\n",
              "      <td>Minoxidil specifically decreases the expressio...</td>\n",
              "      <td>T Hautala, J Heikkinen, K I Kivirikko, R Myllyla</td>\n",
              "      <td>1314568</td>\n",
              "      <td>1992-04-01</td>\n",
              "      <td>17</td>\n",
              "      <td>NaN</td>\n",
              "    </tr>\n",
              "  </tbody>\n",
              "</table>\n",
              "</div>"
            ],
            "text/plain": [
              "                                            abstract  \\\n",
              "0  Cell lines selected in multiple steps for incr...   \n",
              "1  Prolyl 4-hydroxylase (EC 1.14.11.2) is an esse...   \n",
              "2  From the structure-activity relationships of k...   \n",
              "3  The anthracyclines doxorubicin and daunorubici...   \n",
              "4  The levels of lysine hydroxylase protein and t...   \n",
              "\n",
              "                                       article_title  \\\n",
              "0  The gene for a novel protein, a member of the ...   \n",
              "1  Inhibition of prolyl 4-hydroxylase by hydroxya...   \n",
              "2  Time-dependent inactivation of chick-embryo pr...   \n",
              "3  Syncatalytic inactivation of prolyl 4-hydroxyl...   \n",
              "4  Minoxidil specifically decreases the expressio...   \n",
              "\n",
              "                                          author_str     pmid    pub_date  \\\n",
              "0  M M Chaudhuri, P N Tonin, W H Lewis, P R Srini...  1311171  1992-02-01   \n",
              "1                         C J Cunliffe, T J Franklin  3028370  1986-10-15   \n",
              "2  V Gunzler, H M Hanauske-Abel, R Myllyla, J Moh...  3036081  1987-02-15   \n",
              "3  V Gunzler, H M Hanauske-Abel, R Myllyla, D D K...  2840891  1988-04-15   \n",
              "4   T Hautala, J Heikkinen, K I Kivirikko, R Myllyla  1314568  1992-04-01   \n",
              "\n",
              "   set full_Text  \n",
              "0   17       NaN  \n",
              "1   17       NaN  \n",
              "2   17       NaN  \n",
              "3   17       NaN  \n",
              "4   17       NaN  "
            ]
          },
          "metadata": {
            "tags": []
          },
          "execution_count": 136
        }
      ]
    },
    {
      "metadata": {
        "id": "k1iYcb8oLtsP",
        "colab_type": "code",
        "colab": {
          "autoexec": {
            "startup": false,
            "wait_interval": 0
          }
        }
      },
      "cell_type": "code",
      "source": [
        "pmid17 = pd.DataFrame(df_t[17][['pmid', 'pub_date']])"
      ],
      "execution_count": 0,
      "outputs": []
    },
    {
      "metadata": {
        "id": "Wc6-ksMmL4ff",
        "colab_type": "code",
        "colab": {
          "autoexec": {
            "startup": false,
            "wait_interval": 0
          }
        }
      },
      "cell_type": "code",
      "source": [
        "pmid17['key'] = 1"
      ],
      "execution_count": 0,
      "outputs": []
    },
    {
      "metadata": {
        "id": "Vk5wylWvL6K3",
        "colab_type": "code",
        "colab": {
          "autoexec": {
            "startup": false,
            "wait_interval": 0
          }
        }
      },
      "cell_type": "code",
      "source": [
        "pmid17 = pd.merge(pmid17, pmid17, on='key')"
      ],
      "execution_count": 0,
      "outputs": []
    },
    {
      "metadata": {
        "id": "rkwsdcZeMD0z",
        "colab_type": "code",
        "colab": {
          "autoexec": {
            "startup": false,
            "wait_interval": 0
          }
        }
      },
      "cell_type": "code",
      "source": [
        "pmid17.drop('key', axis=1, inplace=True)"
      ],
      "execution_count": 0,
      "outputs": []
    },
    {
      "metadata": {
        "id": "IheBSLogMG_Q",
        "colab_type": "code",
        "colab": {
          "autoexec": {
            "startup": false,
            "wait_interval": 0
          },
          "base_uri": "https://localhost:8080/",
          "height": 206
        },
        "outputId": "d9c8a698-d44d-4c85-a0ed-61b3a1757ca1",
        "executionInfo": {
          "status": "ok",
          "timestamp": 1527341193973,
          "user_tz": -330,
          "elapsed": 968,
          "user": {
            "displayName": "Heet Sankesara",
            "photoUrl": "//lh5.googleusercontent.com/-mO3PS3oBtRQ/AAAAAAAAAAI/AAAAAAAAADs/_ic_rsddWU4/s50-c-k-no/photo.jpg",
            "userId": "112240562069909648160"
          }
        }
      },
      "cell_type": "code",
      "source": [
        "pmid17.head()"
      ],
      "execution_count": 141,
      "outputs": [
        {
          "output_type": "execute_result",
          "data": {
            "text/html": [
              "<div>\n",
              "<style scoped>\n",
              "    .dataframe tbody tr th:only-of-type {\n",
              "        vertical-align: middle;\n",
              "    }\n",
              "\n",
              "    .dataframe tbody tr th {\n",
              "        vertical-align: top;\n",
              "    }\n",
              "\n",
              "    .dataframe thead th {\n",
              "        text-align: right;\n",
              "    }\n",
              "</style>\n",
              "<table border=\"1\" class=\"dataframe\">\n",
              "  <thead>\n",
              "    <tr style=\"text-align: right;\">\n",
              "      <th></th>\n",
              "      <th>pmid_x</th>\n",
              "      <th>pub_date_x</th>\n",
              "      <th>pmid_y</th>\n",
              "      <th>pub_date_y</th>\n",
              "    </tr>\n",
              "  </thead>\n",
              "  <tbody>\n",
              "    <tr>\n",
              "      <th>0</th>\n",
              "      <td>1311171</td>\n",
              "      <td>1992-02-01</td>\n",
              "      <td>1311171</td>\n",
              "      <td>1992-02-01</td>\n",
              "    </tr>\n",
              "    <tr>\n",
              "      <th>1</th>\n",
              "      <td>1311171</td>\n",
              "      <td>1992-02-01</td>\n",
              "      <td>3028370</td>\n",
              "      <td>1986-10-15</td>\n",
              "    </tr>\n",
              "    <tr>\n",
              "      <th>2</th>\n",
              "      <td>1311171</td>\n",
              "      <td>1992-02-01</td>\n",
              "      <td>3036081</td>\n",
              "      <td>1987-02-15</td>\n",
              "    </tr>\n",
              "    <tr>\n",
              "      <th>3</th>\n",
              "      <td>1311171</td>\n",
              "      <td>1992-02-01</td>\n",
              "      <td>2840891</td>\n",
              "      <td>1988-04-15</td>\n",
              "    </tr>\n",
              "    <tr>\n",
              "      <th>4</th>\n",
              "      <td>1311171</td>\n",
              "      <td>1992-02-01</td>\n",
              "      <td>1314568</td>\n",
              "      <td>1992-04-01</td>\n",
              "    </tr>\n",
              "  </tbody>\n",
              "</table>\n",
              "</div>"
            ],
            "text/plain": [
              "    pmid_x  pub_date_x   pmid_y  pub_date_y\n",
              "0  1311171  1992-02-01  1311171  1992-02-01\n",
              "1  1311171  1992-02-01  3028370  1986-10-15\n",
              "2  1311171  1992-02-01  3036081  1987-02-15\n",
              "3  1311171  1992-02-01  2840891  1988-04-15\n",
              "4  1311171  1992-02-01  1314568  1992-04-01"
            ]
          },
          "metadata": {
            "tags": []
          },
          "execution_count": 141
        }
      ]
    },
    {
      "metadata": {
        "id": "abskl3_yMIz9",
        "colab_type": "code",
        "colab": {
          "autoexec": {
            "startup": false,
            "wait_interval": 0
          }
        }
      },
      "cell_type": "code",
      "source": [
        "pmid17 = pmid17.drop(pmid17[pmid17.pub_date_x <= pmid17.pub_date_y].index)"
      ],
      "execution_count": 0,
      "outputs": []
    },
    {
      "metadata": {
        "id": "F7vYqLYVMZLg",
        "colab_type": "code",
        "colab": {
          "autoexec": {
            "startup": false,
            "wait_interval": 0
          },
          "base_uri": "https://localhost:8080/",
          "height": 206
        },
        "outputId": "ee889bb6-9290-49a2-97b9-acd1c6ac261d",
        "executionInfo": {
          "status": "ok",
          "timestamp": 1527341206411,
          "user_tz": -330,
          "elapsed": 1152,
          "user": {
            "displayName": "Heet Sankesara",
            "photoUrl": "//lh5.googleusercontent.com/-mO3PS3oBtRQ/AAAAAAAAAAI/AAAAAAAAADs/_ic_rsddWU4/s50-c-k-no/photo.jpg",
            "userId": "112240562069909648160"
          }
        }
      },
      "cell_type": "code",
      "source": [
        "pmid17.head()"
      ],
      "execution_count": 143,
      "outputs": [
        {
          "output_type": "execute_result",
          "data": {
            "text/html": [
              "<div>\n",
              "<style scoped>\n",
              "    .dataframe tbody tr th:only-of-type {\n",
              "        vertical-align: middle;\n",
              "    }\n",
              "\n",
              "    .dataframe tbody tr th {\n",
              "        vertical-align: top;\n",
              "    }\n",
              "\n",
              "    .dataframe thead th {\n",
              "        text-align: right;\n",
              "    }\n",
              "</style>\n",
              "<table border=\"1\" class=\"dataframe\">\n",
              "  <thead>\n",
              "    <tr style=\"text-align: right;\">\n",
              "      <th></th>\n",
              "      <th>pmid_x</th>\n",
              "      <th>pub_date_x</th>\n",
              "      <th>pmid_y</th>\n",
              "      <th>pub_date_y</th>\n",
              "    </tr>\n",
              "  </thead>\n",
              "  <tbody>\n",
              "    <tr>\n",
              "      <th>1</th>\n",
              "      <td>1311171</td>\n",
              "      <td>1992-02-01</td>\n",
              "      <td>3028370</td>\n",
              "      <td>1986-10-15</td>\n",
              "    </tr>\n",
              "    <tr>\n",
              "      <th>2</th>\n",
              "      <td>1311171</td>\n",
              "      <td>1992-02-01</td>\n",
              "      <td>3036081</td>\n",
              "      <td>1987-02-15</td>\n",
              "    </tr>\n",
              "    <tr>\n",
              "      <th>3</th>\n",
              "      <td>1311171</td>\n",
              "      <td>1992-02-01</td>\n",
              "      <td>2840891</td>\n",
              "      <td>1988-04-15</td>\n",
              "    </tr>\n",
              "    <tr>\n",
              "      <th>5</th>\n",
              "      <td>1311171</td>\n",
              "      <td>1992-02-01</td>\n",
              "      <td>2025220</td>\n",
              "      <td>1991-04-15</td>\n",
              "    </tr>\n",
              "    <tr>\n",
              "      <th>6</th>\n",
              "      <td>1311171</td>\n",
              "      <td>1992-02-01</td>\n",
              "      <td>2025222</td>\n",
              "      <td>1991-04-15</td>\n",
              "    </tr>\n",
              "  </tbody>\n",
              "</table>\n",
              "</div>"
            ],
            "text/plain": [
              "    pmid_x  pub_date_x   pmid_y  pub_date_y\n",
              "1  1311171  1992-02-01  3028370  1986-10-15\n",
              "2  1311171  1992-02-01  3036081  1987-02-15\n",
              "3  1311171  1992-02-01  2840891  1988-04-15\n",
              "5  1311171  1992-02-01  2025220  1991-04-15\n",
              "6  1311171  1992-02-01  2025222  1991-04-15"
            ]
          },
          "metadata": {
            "tags": []
          },
          "execution_count": 143
        }
      ]
    },
    {
      "metadata": {
        "id": "bDk9nMoQMbF0",
        "colab_type": "code",
        "colab": {
          "autoexec": {
            "startup": false,
            "wait_interval": 0
          }
        }
      },
      "cell_type": "code",
      "source": [
        "pmid17['corr'] = np.nan"
      ],
      "execution_count": 0,
      "outputs": []
    },
    {
      "metadata": {
        "id": "2JwnYoFZMgh-",
        "colab_type": "code",
        "colab": {
          "autoexec": {
            "startup": false,
            "wait_interval": 0
          }
        }
      },
      "cell_type": "code",
      "source": [
        "m = pmid17.shape[0]"
      ],
      "execution_count": 0,
      "outputs": []
    },
    {
      "metadata": {
        "id": "WhhLk-e1Mjas",
        "colab_type": "code",
        "colab": {
          "autoexec": {
            "startup": false,
            "wait_interval": 0
          }
        }
      },
      "cell_type": "code",
      "source": [
        "for i in range(m):\n",
        "    pmid17.iat[i, 4] = (sparse_corrcoef(vec_abt[17][indx_t[17][pmid17['pmid_x'].iloc[i]]], vec_abt[17][indx_t[17][pmid17['pmid_y'].iloc[i]]])[0,1] + sparse_corrcoef(vec_tit[17][indx_t[17][pmid17['pmid_x'].iloc[i]]], vec_tit[17][indx_t[17][pmid17['pmid_y'].iloc[i]]])[0,1]) / 2"
      ],
      "execution_count": 0,
      "outputs": []
    },
    {
      "metadata": {
        "id": "k9jz5VsfM1r-",
        "colab_type": "code",
        "colab": {
          "autoexec": {
            "startup": false,
            "wait_interval": 0
          },
          "base_uri": "https://localhost:8080/",
          "height": 206
        },
        "outputId": "a11526ea-9171-4700-ebf5-3b7e634a7925",
        "executionInfo": {
          "status": "ok",
          "timestamp": 1527341266031,
          "user_tz": -330,
          "elapsed": 779,
          "user": {
            "displayName": "Heet Sankesara",
            "photoUrl": "//lh5.googleusercontent.com/-mO3PS3oBtRQ/AAAAAAAAAAI/AAAAAAAAADs/_ic_rsddWU4/s50-c-k-no/photo.jpg",
            "userId": "112240562069909648160"
          }
        }
      },
      "cell_type": "code",
      "source": [
        "pmid17.head()"
      ],
      "execution_count": 146,
      "outputs": [
        {
          "output_type": "execute_result",
          "data": {
            "text/html": [
              "<div>\n",
              "<style scoped>\n",
              "    .dataframe tbody tr th:only-of-type {\n",
              "        vertical-align: middle;\n",
              "    }\n",
              "\n",
              "    .dataframe tbody tr th {\n",
              "        vertical-align: top;\n",
              "    }\n",
              "\n",
              "    .dataframe thead th {\n",
              "        text-align: right;\n",
              "    }\n",
              "</style>\n",
              "<table border=\"1\" class=\"dataframe\">\n",
              "  <thead>\n",
              "    <tr style=\"text-align: right;\">\n",
              "      <th></th>\n",
              "      <th>pmid_x</th>\n",
              "      <th>pub_date_x</th>\n",
              "      <th>pmid_y</th>\n",
              "      <th>pub_date_y</th>\n",
              "      <th>corr</th>\n",
              "    </tr>\n",
              "  </thead>\n",
              "  <tbody>\n",
              "    <tr>\n",
              "      <th>1</th>\n",
              "      <td>1311171</td>\n",
              "      <td>1992-02-01</td>\n",
              "      <td>3028370</td>\n",
              "      <td>1986-10-15</td>\n",
              "      <td>0.321530</td>\n",
              "    </tr>\n",
              "    <tr>\n",
              "      <th>2</th>\n",
              "      <td>1311171</td>\n",
              "      <td>1992-02-01</td>\n",
              "      <td>3036081</td>\n",
              "      <td>1987-02-15</td>\n",
              "      <td>0.320357</td>\n",
              "    </tr>\n",
              "    <tr>\n",
              "      <th>3</th>\n",
              "      <td>1311171</td>\n",
              "      <td>1992-02-01</td>\n",
              "      <td>2840891</td>\n",
              "      <td>1988-04-15</td>\n",
              "      <td>0.308887</td>\n",
              "    </tr>\n",
              "    <tr>\n",
              "      <th>5</th>\n",
              "      <td>1311171</td>\n",
              "      <td>1992-02-01</td>\n",
              "      <td>2025220</td>\n",
              "      <td>1991-04-15</td>\n",
              "      <td>0.506309</td>\n",
              "    </tr>\n",
              "    <tr>\n",
              "      <th>6</th>\n",
              "      <td>1311171</td>\n",
              "      <td>1992-02-01</td>\n",
              "      <td>2025222</td>\n",
              "      <td>1991-04-15</td>\n",
              "      <td>0.548442</td>\n",
              "    </tr>\n",
              "  </tbody>\n",
              "</table>\n",
              "</div>"
            ],
            "text/plain": [
              "    pmid_x  pub_date_x   pmid_y  pub_date_y      corr\n",
              "1  1311171  1992-02-01  3028370  1986-10-15  0.321530\n",
              "2  1311171  1992-02-01  3036081  1987-02-15  0.320357\n",
              "3  1311171  1992-02-01  2840891  1988-04-15  0.308887\n",
              "5  1311171  1992-02-01  2025220  1991-04-15  0.506309\n",
              "6  1311171  1992-02-01  2025222  1991-04-15  0.548442"
            ]
          },
          "metadata": {
            "tags": []
          },
          "execution_count": 146
        }
      ]
    },
    {
      "metadata": {
        "id": "8cp2shKxNAW3",
        "colab_type": "code",
        "colab": {
          "autoexec": {
            "startup": false,
            "wait_interval": 0
          }
        }
      },
      "cell_type": "code",
      "source": [
        "pid = pmid17[pmid17['pmid_x'] == 1311171]"
      ],
      "execution_count": 0,
      "outputs": []
    },
    {
      "metadata": {
        "id": "gnJXcY8PNc3U",
        "colab_type": "code",
        "colab": {
          "autoexec": {
            "startup": false,
            "wait_interval": 0
          }
        }
      },
      "cell_type": "code",
      "source": [
        "sol = pid[pid['corr'] >= pid['corr'].quantile(0.98)]['pmid_y'].tolist()"
      ],
      "execution_count": 0,
      "outputs": []
    },
    {
      "metadata": {
        "id": "YiblzGqMNlDY",
        "colab_type": "code",
        "colab": {
          "autoexec": {
            "startup": false,
            "wait_interval": 0
          }
        }
      },
      "cell_type": "code",
      "source": [
        "sol = list(map(str, sol))"
      ],
      "execution_count": 0,
      "outputs": []
    },
    {
      "metadata": {
        "id": "pzwXShncQCdy",
        "colab_type": "code",
        "colab": {
          "autoexec": {
            "startup": false,
            "wait_interval": 0
          }
        }
      },
      "cell_type": "code",
      "source": [
        "res = {}"
      ],
      "execution_count": 0,
      "outputs": []
    },
    {
      "metadata": {
        "id": "g0jsFzKYN95M",
        "colab_type": "code",
        "colab": {
          "autoexec": {
            "startup": false,
            "wait_interval": 0
          },
          "base_uri": "https://localhost:8080/",
          "height": 126
        },
        "outputId": "34670f7e-10cd-4d1a-e320-f2106dabeac0",
        "executionInfo": {
          "status": "ok",
          "timestamp": 1527364090912,
          "user_tz": -330,
          "elapsed": 891385,
          "user": {
            "displayName": "Heet Sankesara",
            "photoUrl": "//lh5.googleusercontent.com/-mO3PS3oBtRQ/AAAAAAAAAAI/AAAAAAAAADs/_ic_rsddWU4/s50-c-k-no/photo.jpg",
            "userId": "112240562069909648160"
          }
        }
      },
      "cell_type": "code",
      "source": [
        "for i in sets:\n",
        "  pm = pd.DataFrame(df_t[i][['pmid', 'pub_date']])\n",
        "  pm['key'] = 1\n",
        "  pm = pd.merge(pm, pm, on='key')\n",
        "  pm.drop('key', axis=1, inplace=True)\n",
        "  pm = pm.drop(pm[pm.pub_date_x < pm.pub_date_y].index).reset_index()\n",
        "  pm = pm.drop('index', axis = 1)\n",
        "  pm['corr'] = np.nan\n",
        "  m = pm.shape[0]\n",
        "  for j in range(m):\n",
        "    pm.iat[j, 4] = (sparse_corrcoef(vec_abt[i][indx_t[i][pm['pmid_x'].iloc[j]]], vec_abt[i][indx_t[i][pm['pmid_y'].iloc[j]]])[0,1] + sparse_corrcoef(vec_tit[i][indx_t[i][pm['pmid_x'].iloc[j]]], vec_tit[i][indx_t[i][pm['pmid_y'].iloc[j]]])[0,1]) / 2\n",
        "  ids = pm['pmid_x'].unique()\n",
        "  for j in ids:\n",
        "    pid = pm[pm['pmid_x'] == j]\n",
        "    pid.drop(pid[pid['pmid_y'] == j].index, inplace=True)\n",
        "    sol = pid[pid['corr'] >= pid['corr'].quantile(0.99)]['pmid_y'].tolist()\n",
        "    sol = list(map(str, sol))\n",
        "    res[j] = sol"
      ],
      "execution_count": 162,
      "outputs": [
        {
          "output_type": "stream",
          "text": [
            "/usr/local/lib/python3.6/dist-packages/ipykernel_launcher.py:15: SettingWithCopyWarning: \n",
            "A value is trying to be set on a copy of a slice from a DataFrame\n",
            "\n",
            "See the caveats in the documentation: http://pandas.pydata.org/pandas-docs/stable/indexing.html#indexing-view-versus-copy\n",
            "  from ipykernel import kernelapp as app\n"
          ],
          "name": "stderr"
        }
      ]
    },
    {
      "metadata": {
        "id": "lXkbzvysQGmz",
        "colab_type": "code",
        "colab": {
          "autoexec": {
            "startup": false,
            "wait_interval": 0
          },
          "base_uri": "https://localhost:8080/",
          "height": 35
        },
        "outputId": "5f1a303b-9abc-4923-acc6-bdea26757ad7",
        "executionInfo": {
          "status": "ok",
          "timestamp": 1527364111938,
          "user_tz": -330,
          "elapsed": 1016,
          "user": {
            "displayName": "Heet Sankesara",
            "photoUrl": "//lh5.googleusercontent.com/-mO3PS3oBtRQ/AAAAAAAAAAI/AAAAAAAAADs/_ic_rsddWU4/s50-c-k-no/photo.jpg",
            "userId": "112240562069909648160"
          }
        }
      },
      "cell_type": "code",
      "source": [
        "len(res.keys())"
      ],
      "execution_count": 163,
      "outputs": [
        {
          "output_type": "execute_result",
          "data": {
            "text/plain": [
              "2034"
            ]
          },
          "metadata": {
            "tags": []
          },
          "execution_count": 163
        }
      ]
    },
    {
      "metadata": {
        "id": "IckW5epcTeuR",
        "colab_type": "code",
        "colab": {
          "autoexec": {
            "startup": false,
            "wait_interval": 0
          }
        }
      },
      "cell_type": "code",
      "source": [
        "result = pd.DataFrame(list(res.items()))"
      ],
      "execution_count": 0,
      "outputs": []
    },
    {
      "metadata": {
        "id": "hVkMAY2TUnVQ",
        "colab_type": "code",
        "colab": {
          "autoexec": {
            "startup": false,
            "wait_interval": 0
          },
          "base_uri": "https://localhost:8080/",
          "height": 206
        },
        "outputId": "6c427098-86e8-4e40-bcb3-e21183e29205",
        "executionInfo": {
          "status": "ok",
          "timestamp": 1527364116328,
          "user_tz": -330,
          "elapsed": 866,
          "user": {
            "displayName": "Heet Sankesara",
            "photoUrl": "//lh5.googleusercontent.com/-mO3PS3oBtRQ/AAAAAAAAAAI/AAAAAAAAADs/_ic_rsddWU4/s50-c-k-no/photo.jpg",
            "userId": "112240562069909648160"
          }
        }
      },
      "cell_type": "code",
      "source": [
        "result.head()"
      ],
      "execution_count": 165,
      "outputs": [
        {
          "output_type": "execute_result",
          "data": {
            "text/html": [
              "<div>\n",
              "<style scoped>\n",
              "    .dataframe tbody tr th:only-of-type {\n",
              "        vertical-align: middle;\n",
              "    }\n",
              "\n",
              "    .dataframe tbody tr th {\n",
              "        vertical-align: top;\n",
              "    }\n",
              "\n",
              "    .dataframe thead th {\n",
              "        text-align: right;\n",
              "    }\n",
              "</style>\n",
              "<table border=\"1\" class=\"dataframe\">\n",
              "  <thead>\n",
              "    <tr style=\"text-align: right;\">\n",
              "      <th></th>\n",
              "      <th>0</th>\n",
              "      <th>1</th>\n",
              "    </tr>\n",
              "  </thead>\n",
              "  <tbody>\n",
              "    <tr>\n",
              "      <th>0</th>\n",
              "      <td>1311171</td>\n",
              "      <td>[3034602, 2543975, 6165999]</td>\n",
              "    </tr>\n",
              "    <tr>\n",
              "      <th>1</th>\n",
              "      <td>3028370</td>\n",
              "      <td>[204299, 6293467]</td>\n",
              "    </tr>\n",
              "    <tr>\n",
              "      <th>2</th>\n",
              "      <td>3036081</td>\n",
              "      <td>[3028370, 3036064]</td>\n",
              "    </tr>\n",
              "    <tr>\n",
              "      <th>3</th>\n",
              "      <td>2840891</td>\n",
              "      <td>[3028370, 3036081, 204299]</td>\n",
              "    </tr>\n",
              "    <tr>\n",
              "      <th>4</th>\n",
              "      <td>1314568</td>\n",
              "      <td>[186037, 6260081, 6777369]</td>\n",
              "    </tr>\n",
              "  </tbody>\n",
              "</table>\n",
              "</div>"
            ],
            "text/plain": [
              "         0                            1\n",
              "0  1311171  [3034602, 2543975, 6165999]\n",
              "1  3028370            [204299, 6293467]\n",
              "2  3036081           [3028370, 3036064]\n",
              "3  2840891   [3028370, 3036081, 204299]\n",
              "4  1314568   [186037, 6260081, 6777369]"
            ]
          },
          "metadata": {
            "tags": []
          },
          "execution_count": 165
        }
      ]
    },
    {
      "metadata": {
        "id": "dRJGQgptYDNK",
        "colab_type": "code",
        "colab": {
          "autoexec": {
            "startup": false,
            "wait_interval": 0
          }
        }
      },
      "cell_type": "code",
      "source": [
        "result.columns = ['pmid','ref_list']"
      ],
      "execution_count": 0,
      "outputs": []
    },
    {
      "metadata": {
        "id": "WEgm2jaCYOmb",
        "colab_type": "code",
        "colab": {
          "autoexec": {
            "startup": false,
            "wait_interval": 0
          },
          "base_uri": "https://localhost:8080/",
          "height": 206
        },
        "outputId": "2769166e-8dfa-4482-ff2e-3f1a3866eeb2",
        "executionInfo": {
          "status": "ok",
          "timestamp": 1527364121343,
          "user_tz": -330,
          "elapsed": 1090,
          "user": {
            "displayName": "Heet Sankesara",
            "photoUrl": "//lh5.googleusercontent.com/-mO3PS3oBtRQ/AAAAAAAAAAI/AAAAAAAAADs/_ic_rsddWU4/s50-c-k-no/photo.jpg",
            "userId": "112240562069909648160"
          }
        }
      },
      "cell_type": "code",
      "source": [
        "result.head()"
      ],
      "execution_count": 167,
      "outputs": [
        {
          "output_type": "execute_result",
          "data": {
            "text/html": [
              "<div>\n",
              "<style scoped>\n",
              "    .dataframe tbody tr th:only-of-type {\n",
              "        vertical-align: middle;\n",
              "    }\n",
              "\n",
              "    .dataframe tbody tr th {\n",
              "        vertical-align: top;\n",
              "    }\n",
              "\n",
              "    .dataframe thead th {\n",
              "        text-align: right;\n",
              "    }\n",
              "</style>\n",
              "<table border=\"1\" class=\"dataframe\">\n",
              "  <thead>\n",
              "    <tr style=\"text-align: right;\">\n",
              "      <th></th>\n",
              "      <th>pmid</th>\n",
              "      <th>ref_list</th>\n",
              "    </tr>\n",
              "  </thead>\n",
              "  <tbody>\n",
              "    <tr>\n",
              "      <th>0</th>\n",
              "      <td>1311171</td>\n",
              "      <td>[3034602, 2543975, 6165999]</td>\n",
              "    </tr>\n",
              "    <tr>\n",
              "      <th>1</th>\n",
              "      <td>3028370</td>\n",
              "      <td>[204299, 6293467]</td>\n",
              "    </tr>\n",
              "    <tr>\n",
              "      <th>2</th>\n",
              "      <td>3036081</td>\n",
              "      <td>[3028370, 3036064]</td>\n",
              "    </tr>\n",
              "    <tr>\n",
              "      <th>3</th>\n",
              "      <td>2840891</td>\n",
              "      <td>[3028370, 3036081, 204299]</td>\n",
              "    </tr>\n",
              "    <tr>\n",
              "      <th>4</th>\n",
              "      <td>1314568</td>\n",
              "      <td>[186037, 6260081, 6777369]</td>\n",
              "    </tr>\n",
              "  </tbody>\n",
              "</table>\n",
              "</div>"
            ],
            "text/plain": [
              "      pmid                     ref_list\n",
              "0  1311171  [3034602, 2543975, 6165999]\n",
              "1  3028370            [204299, 6293467]\n",
              "2  3036081           [3028370, 3036064]\n",
              "3  2840891   [3028370, 3036081, 204299]\n",
              "4  1314568   [186037, 6260081, 6777369]"
            ]
          },
          "metadata": {
            "tags": []
          },
          "execution_count": 167
        }
      ]
    },
    {
      "metadata": {
        "id": "4wF44fLlVXNx",
        "colab_type": "code",
        "colab": {
          "autoexec": {
            "startup": false,
            "wait_interval": 0
          }
        }
      },
      "cell_type": "code",
      "source": [
        "result.to_csv('sub010.csv', index=False)"
      ],
      "execution_count": 0,
      "outputs": []
    },
    {
      "metadata": {
        "id": "uC6uzvs6beZa",
        "colab_type": "code",
        "colab": {
          "autoexec": {
            "startup": false,
            "wait_interval": 0
          }
        }
      },
      "cell_type": "code",
      "source": [
        "from google.colab import files\n",
        "\n",
        "#with open('example.txt', 'w') as f:\n",
        "#  f.write('some content')\n",
        "\n",
        "files.download('./sub003.csv')"
      ],
      "execution_count": 0,
      "outputs": []
    },
    {
      "metadata": {
        "id": "X3vt5jCHc96i",
        "colab_type": "code",
        "colab": {
          "autoexec": {
            "startup": false,
            "wait_interval": 0
          },
          "base_uri": "https://localhost:8080/",
          "height": 35
        },
        "outputId": "03b4c81d-9c10-4ef1-8684-0f06b42aeb8e",
        "executionInfo": {
          "status": "ok",
          "timestamp": 1527364143346,
          "user_tz": -330,
          "elapsed": 4021,
          "user": {
            "displayName": "Heet Sankesara",
            "photoUrl": "//lh5.googleusercontent.com/-mO3PS3oBtRQ/AAAAAAAAAAI/AAAAAAAAADs/_ic_rsddWU4/s50-c-k-no/photo.jpg",
            "userId": "112240562069909648160"
          }
        }
      },
      "cell_type": "code",
      "source": [
        "# Install the PyDrive wrapper & import libraries.\n",
        "# This only needs to be done once in a notebook.\n",
        "!pip install -U -q PyDrive\n",
        "from pydrive.auth import GoogleAuth\n",
        "from pydrive.drive import GoogleDrive\n",
        "from google.colab import auth\n",
        "from oauth2client.client import GoogleCredentials\n",
        "\n",
        "# Authenticate and create the PyDrive client.\n",
        "# This only needs to be done once in a notebook.\n",
        "auth.authenticate_user()\n",
        "gauth = GoogleAuth()\n",
        "gauth.credentials = GoogleCredentials.get_application_default()\n",
        "drive = GoogleDrive(gauth)\n",
        "\n",
        "# Create & upload a text file.\n",
        "uploaded = drive.CreateFile({'title': 'sub010.csv'})\n",
        "uploaded.SetContentFile('./sub010.csv')\n",
        "uploaded.Upload()\n",
        "print('Uploaded file with ID {}'.format(uploaded.get('id')))"
      ],
      "execution_count": 169,
      "outputs": [
        {
          "output_type": "stream",
          "text": [
            "Uploaded file with ID 1Mu6p3OjHxxGkPJLOtRD5U68Cs8DmVhDi\n"
          ],
          "name": "stdout"
        }
      ]
    },
    {
      "metadata": {
        "id": "XpoG3Z2adJpw",
        "colab_type": "code",
        "colab": {
          "autoexec": {
            "startup": false,
            "wait_interval": 0
          }
        }
      },
      "cell_type": "code",
      "source": [
        ""
      ],
      "execution_count": 0,
      "outputs": []
    },
    {
      "metadata": {
        "id": "tJKWVchO7QVb",
        "colab_type": "code",
        "colab": {
          "autoexec": {
            "startup": false,
            "wait_interval": 0
          }
        }
      },
      "cell_type": "code",
      "source": [
        ""
      ],
      "execution_count": 0,
      "outputs": []
    }
  ]
}